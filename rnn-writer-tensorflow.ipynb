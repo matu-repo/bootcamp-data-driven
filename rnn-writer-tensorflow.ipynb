{
 "cells": [
  {
   "cell_type": "code",
   "execution_count": 1,
   "id": "6a4e9905",
   "metadata": {},
   "outputs": [],
   "source": [
    "import tensorflow as tf\n",
    "\n",
    "import numpy as np\n",
    "import os\n",
    "import time"
   ]
  },
  {
   "cell_type": "code",
   "execution_count": 2,
   "id": "7e48f1d0",
   "metadata": {},
   "outputs": [],
   "source": [
    "path_to_file = tf.keras.utils.get_file('shakespeare.txt', 'https://storage.googleapis.com/download.tensorflow.org/data/shakespeare.txt')"
   ]
  },
  {
   "cell_type": "code",
   "execution_count": 37,
   "id": "a2a0a51e",
   "metadata": {},
   "outputs": [
    {
     "name": "stdout",
     "output_type": "stream",
     "text": [
      "Length of text: 25328 characters\n"
     ]
    }
   ],
   "source": [
    "# Read, then decode for py2 compat.\n",
    "#text = open(path_to_file, 'rb').read().decode(encoding='utf-8')\n",
    "filename = \"discurso.txt\"\n",
    "text = open(filename, encoding=\"utf-8\").read()\n",
    "# length of text is the number of characters in it\n",
    "print(f'Length of text: {len(text)} characters')\n"
   ]
  },
  {
   "cell_type": "code",
   "execution_count": 38,
   "id": "a23d2999",
   "metadata": {},
   "outputs": [
    {
     "name": "stdout",
     "output_type": "stream",
     "text": [
      "estamos celebrando este evento de nuevo en nuestra sede corporativa de boadilla para minimizar los riesgos sanitarios\n",
      "que podría conllevar el desplazamiento de nuestros equipos y accionistas a\n",
      "cantabria deseamos volver pronto a santander\n",
      "y me gustarí\n"
     ]
    }
   ],
   "source": [
    "# Take a look at the first 250 characters in text\n",
    "print(text[:250])"
   ]
  },
  {
   "cell_type": "code",
   "execution_count": 39,
   "id": "a517580b",
   "metadata": {},
   "outputs": [
    {
     "name": "stdout",
     "output_type": "stream",
     "text": [
      "51 unique characters\n"
     ]
    }
   ],
   "source": [
    "# The unique characters in the file\n",
    "vocab = sorted(set(text))\n",
    "print(f'{len(vocab)} unique characters')"
   ]
  },
  {
   "cell_type": "code",
   "execution_count": 40,
   "id": "6f60d24b",
   "metadata": {},
   "outputs": [],
   "source": [
    "ids_from_chars = tf.keras.layers.StringLookup(\n",
    "    vocabulary=list(vocab), mask_token=None)\n"
   ]
  },
  {
   "cell_type": "code",
   "execution_count": 41,
   "id": "814a93f7",
   "metadata": {},
   "outputs": [],
   "source": [
    "chars_from_ids = tf.keras.layers.StringLookup(\n",
    "    vocabulary=ids_from_chars.get_vocabulary(), invert=True, mask_token=None)"
   ]
  },
  {
   "cell_type": "code",
   "execution_count": 42,
   "id": "176f973d",
   "metadata": {},
   "outputs": [],
   "source": [
    "def text_from_ids(ids):\n",
    "  return tf.strings.reduce_join(chars_from_ids(ids), axis=-1)"
   ]
  },
  {
   "cell_type": "code",
   "execution_count": 43,
   "id": "1e8edbe8",
   "metadata": {},
   "outputs": [
    {
     "data": {
      "text/plain": [
       "<tf.Tensor: shape=(25328,), dtype=int64, numpy=array([24, 38, 39, ..., 28, 20, 38], dtype=int64)>"
      ]
     },
     "execution_count": 43,
     "metadata": {},
     "output_type": "execute_result"
    }
   ],
   "source": [
    "all_ids = ids_from_chars(tf.strings.unicode_split(text, 'UTF-8'))\n",
    "all_ids"
   ]
  },
  {
   "cell_type": "code",
   "execution_count": 44,
   "id": "513f7b36",
   "metadata": {},
   "outputs": [],
   "source": [
    "ids_dataset = tf.data.Dataset.from_tensor_slices(all_ids)"
   ]
  },
  {
   "cell_type": "code",
   "execution_count": 45,
   "id": "c862b739",
   "metadata": {},
   "outputs": [
    {
     "name": "stdout",
     "output_type": "stream",
     "text": [
      "e\n",
      "s\n",
      "t\n",
      "a\n",
      "m\n",
      "o\n",
      "s\n",
      " \n",
      "c\n",
      "e\n"
     ]
    }
   ],
   "source": [
    "for ids in ids_dataset.take(10):\n",
    "    print(chars_from_ids(ids).numpy().decode('utf-8'))"
   ]
  },
  {
   "cell_type": "code",
   "execution_count": 46,
   "id": "9b5490fa",
   "metadata": {},
   "outputs": [],
   "source": [
    "seq_length = 100\n",
    "examples_per_epoch = len(text)//(seq_length+1)"
   ]
  },
  {
   "cell_type": "code",
   "execution_count": 47,
   "id": "d87eb89d",
   "metadata": {},
   "outputs": [
    {
     "name": "stdout",
     "output_type": "stream",
     "text": [
      "tf.Tensor(\n",
      "[b'e' b's' b't' b'a' b'm' b'o' b's' b' ' b'c' b'e' b'l' b'e' b'b' b'r'\n",
      " b'a' b'n' b'd' b'o' b' ' b'e' b's' b't' b'e' b' ' b'e' b'v' b'e' b'n'\n",
      " b't' b'o' b' ' b'd' b'e' b' ' b'n' b'u' b'e' b'v' b'o' b' ' b'e' b'n'\n",
      " b' ' b'n' b'u' b'e' b's' b't' b'r' b'a' b' ' b's' b'e' b'd' b'e' b' '\n",
      " b'c' b'o' b'r' b'p' b'o' b'r' b'a' b't' b'i' b'v' b'a' b' ' b'd' b'e'\n",
      " b' ' b'b' b'o' b'a' b'd' b'i' b'l' b'l' b'a' b' ' b'p' b'a' b'r' b'a'\n",
      " b' ' b'm' b'i' b'n' b'i' b'm' b'i' b'z' b'a' b'r' b' ' b'l' b'o' b's'\n",
      " b' ' b'r' b'i'], shape=(101,), dtype=string)\n"
     ]
    }
   ],
   "source": [
    "sequences = ids_dataset.batch(seq_length+1, drop_remainder=True)\n",
    "\n",
    "for seq in sequences.take(1):\n",
    "  print(chars_from_ids(seq))"
   ]
  },
  {
   "cell_type": "code",
   "execution_count": 48,
   "id": "735b74f7",
   "metadata": {},
   "outputs": [
    {
     "name": "stdout",
     "output_type": "stream",
     "text": [
      "b'estamos celebrando este evento de nuevo en nuestra sede corporativa de boadilla para minimizar los ri'\n",
      "b'esgos sanitarios\\nque podr\\xc3\\xada conllevar el desplazamiento de nuestros equipos y accionistas a\\ncantabria'\n",
      "b' deseamos volver pronto a santander\\ny me gustar\\xc3\\xada comenzar enviando un mensaje de apoyo al pueblo ucr'\n",
      "b'aniano que est\\xc3\\xa1 sufriendo esta terrible cat\\xc3\\xa1strofe\\nhumanitaria a todos los que han perdido familiares'\n",
      "b' y amigos y a los que han\\ntenido que abandonar sus hogares ahora es el momento de apoyar como en los '\n"
     ]
    }
   ],
   "source": [
    "for seq in sequences.take(5):\n",
    "  print(text_from_ids(seq).numpy())"
   ]
  },
  {
   "cell_type": "code",
   "execution_count": 49,
   "id": "2ffca2db",
   "metadata": {},
   "outputs": [],
   "source": [
    "def split_input_target(sequence):\n",
    "    input_text = sequence[:-1]\n",
    "    target_text = sequence[1:]\n",
    "    return input_text, target_text"
   ]
  },
  {
   "cell_type": "code",
   "execution_count": 50,
   "id": "30139f69",
   "metadata": {},
   "outputs": [],
   "source": [
    "dataset = sequences.map(split_input_target)"
   ]
  },
  {
   "cell_type": "code",
   "execution_count": 51,
   "id": "afa38909",
   "metadata": {
    "scrolled": true
   },
   "outputs": [
    {
     "name": "stdout",
     "output_type": "stream",
     "text": [
      "Input : b'estamos celebrando este evento de nuevo en nuestra sede corporativa de boadilla para minimizar los r'\n",
      "Target: b'stamos celebrando este evento de nuevo en nuestra sede corporativa de boadilla para minimizar los ri'\n"
     ]
    }
   ],
   "source": [
    "for input_example, target_example in dataset.take(1):\n",
    "    print(\"Input :\", text_from_ids(input_example).numpy())\n",
    "    print(\"Target:\", text_from_ids(target_example).numpy())"
   ]
  },
  {
   "cell_type": "code",
   "execution_count": 52,
   "id": "3669e2c9",
   "metadata": {},
   "outputs": [
    {
     "data": {
      "text/plain": [
       "<PrefetchDataset element_spec=(TensorSpec(shape=(64, 100), dtype=tf.int64, name=None), TensorSpec(shape=(64, 100), dtype=tf.int64, name=None))>"
      ]
     },
     "execution_count": 52,
     "metadata": {},
     "output_type": "execute_result"
    }
   ],
   "source": [
    "# Batch size\n",
    "BATCH_SIZE = 64\n",
    "\n",
    "# Buffer size to shuffle the dataset\n",
    "# (TF data is designed to work with possibly infinite sequences,\n",
    "# so it doesn't attempt to shuffle the entire sequence in memory. Instead,\n",
    "# it maintains a buffer in which it shuffles elements).\n",
    "BUFFER_SIZE = 10000\n",
    "\n",
    "dataset = (\n",
    "    dataset\n",
    "    .shuffle(BUFFER_SIZE)\n",
    "    .batch(BATCH_SIZE, drop_remainder=True)\n",
    "    .prefetch(tf.data.experimental.AUTOTUNE))\n",
    "\n",
    "dataset"
   ]
  },
  {
   "cell_type": "code",
   "execution_count": 79,
   "id": "4d40fafc",
   "metadata": {},
   "outputs": [
    {
     "name": "stdout",
     "output_type": "stream",
     "text": [
      "Input : (64, 100)\n",
      "Target: (64, 100)\n"
     ]
    }
   ],
   "source": [
    "for input_example, target_example in dataset.take(1):\n",
    "    print(\"Input :\", input_example.numpy().shape)\n",
    "    print(\"Target:\", target_example.numpy().shape)"
   ]
  },
  {
   "cell_type": "code",
   "execution_count": 53,
   "id": "b5e1c124",
   "metadata": {},
   "outputs": [],
   "source": [
    "# Length of the vocabulary in chars\n",
    "vocab_size = len(vocab)\n",
    "\n",
    "# The embedding dimension\n",
    "embedding_dim = 256\n",
    "\n",
    "# Number of RNN units\n",
    "rnn_units = 1024"
   ]
  },
  {
   "cell_type": "code",
   "execution_count": 54,
   "id": "d24d210d",
   "metadata": {},
   "outputs": [],
   "source": [
    "class MyModel(tf.keras.Model):\n",
    "  def __init__(self, vocab_size, embedding_dim, rnn_units):\n",
    "    super().__init__(self)\n",
    "    self.embedding = tf.keras.layers.Embedding(vocab_size, embedding_dim)\n",
    "    self.gru = tf.keras.layers.GRU(rnn_units,\n",
    "                                   return_sequences=True,\n",
    "                                   return_state=True)\n",
    "    self.dense = tf.keras.layers.Dense(vocab_size)\n",
    "\n",
    "  def call(self, inputs, states=None, return_state=False, training=False):\n",
    "    x = inputs\n",
    "    x = self.embedding(x, training=training)\n",
    "    if states is None:\n",
    "      states = self.gru.get_initial_state(x)\n",
    "    x, states = self.gru(x, initial_state=states, training=training)\n",
    "    x = self.dense(x, training=training)\n",
    "\n",
    "    if return_state:\n",
    "      return x, states\n",
    "    else:\n",
    "      return x"
   ]
  },
  {
   "cell_type": "code",
   "execution_count": 81,
   "id": "23c3c430",
   "metadata": {},
   "outputs": [
    {
     "name": "stdout",
     "output_type": "stream",
     "text": [
      "52\n",
      "256\n",
      "1024\n"
     ]
    }
   ],
   "source": [
    "print(len(ids_from_chars.get_vocabulary()))\n",
    "print(embedding_dim)\n",
    "print(rnn_units)"
   ]
  },
  {
   "cell_type": "code",
   "execution_count": 55,
   "id": "f16e824c",
   "metadata": {},
   "outputs": [],
   "source": [
    "model = MyModel(\n",
    "    # Be sure the vocabulary size matches the `StringLookup` layers.\n",
    "    vocab_size=len(ids_from_chars.get_vocabulary()),\n",
    "    embedding_dim=embedding_dim,\n",
    "    rnn_units=rnn_units)"
   ]
  },
  {
   "cell_type": "code",
   "execution_count": 56,
   "id": "cde73d00",
   "metadata": {},
   "outputs": [
    {
     "name": "stdout",
     "output_type": "stream",
     "text": [
      "(64, 100, 52) # (batch_size, sequence_length, vocab_size)\n"
     ]
    }
   ],
   "source": [
    "for input_example_batch, target_example_batch in dataset.take(1):\n",
    "    example_batch_predictions = model(input_example_batch)\n",
    "    print(example_batch_predictions.shape, \"# (batch_size, sequence_length, vocab_size)\")"
   ]
  },
  {
   "cell_type": "code",
   "execution_count": 82,
   "id": "577a7ca9",
   "metadata": {},
   "outputs": [
    {
     "name": "stdout",
     "output_type": "stream",
     "text": [
      "tf.Tensor(\n",
      "[[24]\n",
      " [ 6]\n",
      " [33]\n",
      " [12]\n",
      " [50]\n",
      " [50]\n",
      " [25]\n",
      " [ 1]\n",
      " [31]\n",
      " [ 9]\n",
      " [51]\n",
      " [19]\n",
      " [25]\n",
      " [ 0]\n",
      " [17]\n",
      " [ 7]\n",
      " [39]\n",
      " [28]\n",
      " [31]\n",
      " [ 7]\n",
      " [ 8]\n",
      " [ 5]\n",
      " [50]\n",
      " [ 0]\n",
      " [24]\n",
      " [46]\n",
      " [28]\n",
      " [10]\n",
      " [49]\n",
      " [39]\n",
      " [45]\n",
      " [50]\n",
      " [48]\n",
      " [20]\n",
      " [46]\n",
      " [ 1]\n",
      " [ 6]\n",
      " [17]\n",
      " [38]\n",
      " [28]\n",
      " [ 7]\n",
      " [11]\n",
      " [ 9]\n",
      " [22]\n",
      " [ 1]\n",
      " [43]\n",
      " [28]\n",
      " [40]\n",
      " [28]\n",
      " [20]\n",
      " [18]\n",
      " [49]\n",
      " [17]\n",
      " [50]\n",
      " [36]\n",
      " [ 7]\n",
      " [41]\n",
      " [13]\n",
      " [ 2]\n",
      " [50]\n",
      " [11]\n",
      " [ 1]\n",
      " [37]\n",
      " [ 9]\n",
      " [15]\n",
      " [28]\n",
      " [16]\n",
      " [12]\n",
      " [51]\n",
      " [44]\n",
      " [48]\n",
      " [18]\n",
      " [28]\n",
      " [ 2]\n",
      " [20]\n",
      " [30]\n",
      " [22]\n",
      " [11]\n",
      " [11]\n",
      " [27]\n",
      " [26]\n",
      " [36]\n",
      " [46]\n",
      " [51]\n",
      " [17]\n",
      " [23]\n",
      " [35]\n",
      " [50]\n",
      " [19]\n",
      " [13]\n",
      " [ 4]\n",
      " [22]\n",
      " [35]\n",
      " [17]\n",
      " [17]\n",
      " [39]\n",
      " [32]\n",
      " [15]\n",
      " [20]\n",
      " [30]], shape=(100, 1), dtype=int64)\n"
     ]
    }
   ],
   "source": [
    "sampled_indices = tf.random.categorical(example_batch_predictions[0], num_samples=1)\n",
    "print(sampled_indices)\n",
    "sampled_indices = tf.squeeze(sampled_indices, axis=-1).numpy()"
   ]
  },
  {
   "cell_type": "code",
   "execution_count": 58,
   "id": "901d575e",
   "metadata": {
    "scrolled": true
   },
   "outputs": [
    {
     "data": {
      "text/plain": [
       "array([40,  5, 17, 48,  6, 23, 50, 16,  0, 40,  0, 45,  7, 47,  3, 27, 21,\n",
       "        7,  9, 35, 31, 33, 43, 30, 39, 12, 29,  1, 32, 30, 23, 43, 32, 25,\n",
       "       48, 48, 40, 23, 15, 30, 48,  2, 28, 29, 20, 27,  9, 28,  1, 28, 16,\n",
       "        0, 33, 22, 11,  6, 43,  3, 38, 23, 22, 15, 38, 41, 18, 23, 29,  1,\n",
       "       41, 29, 15, 23, 48,  1, 28, 51,  0, 14, 20, 45, 42, 28, 12,  6,  5,\n",
       "       47, 12, 31, 43, 19, 32, 11, 45, 38, 21, 40, 27, 25, 29, 23],\n",
       "      dtype=int64)"
      ]
     },
     "execution_count": 58,
     "metadata": {},
     "output_type": "execute_result"
    }
   ],
   "source": [
    "sampled_indices"
   ]
  },
  {
   "cell_type": "code",
   "execution_count": 59,
   "id": "1862a8df",
   "metadata": {
    "scrolled": true
   },
   "outputs": [
    {
     "name": "stdout",
     "output_type": "stream",
     "text": [
      "Input:\n",
      " b'etornos muy atractivos\\nya esperamos que en este a\\xc3\\xb1o en el a\\xc3\\xb1o 22 pago nec sea rentable el d\\xc3\\xada 7 el\\nc'\n",
      "\n",
      "Next Char Predictions:\n",
      " b'u-A\\xc3\\xad.d\\xc3\\xb39[UNK]u[UNK]z0\\xc3\\xa9%hb02plnxkt5j\\nmkdxmf\\xc3\\xad\\xc3\\xadud8k\\xc3\\xad ijah2i\\ni9[UNK]nc4.x%sdc8sv[dj\\nvj8d\\xc3\\xad\\ni\\xc3\\xba[UNK]7azwi5.-\\xc3\\xa95lx]m4zsbuhfjd'\n"
     ]
    }
   ],
   "source": [
    "print(\"Input:\\n\", text_from_ids(input_example_batch[0]).numpy())\n",
    "print()\n",
    "print(\"Next Char Predictions:\\n\", text_from_ids(sampled_indices).numpy())"
   ]
  },
  {
   "cell_type": "code",
   "execution_count": 60,
   "id": "0bb7b942",
   "metadata": {},
   "outputs": [],
   "source": [
    "loss = tf.losses.SparseCategoricalCrossentropy(from_logits=True)"
   ]
  },
  {
   "cell_type": "code",
   "execution_count": 61,
   "id": "ed1be5cd",
   "metadata": {},
   "outputs": [
    {
     "name": "stdout",
     "output_type": "stream",
     "text": [
      "Prediction shape:  (64, 100, 52)  # (batch_size, sequence_length, vocab_size)\n",
      "Mean loss:         tf.Tensor(3.9522295, shape=(), dtype=float32)\n"
     ]
    }
   ],
   "source": [
    "example_batch_mean_loss = loss(target_example_batch, example_batch_predictions)\n",
    "print(\"Prediction shape: \", example_batch_predictions.shape, \" # (batch_size, sequence_length, vocab_size)\")\n",
    "print(\"Mean loss:        \", example_batch_mean_loss)"
   ]
  },
  {
   "cell_type": "code",
   "execution_count": 62,
   "id": "9e3c3cfe",
   "metadata": {},
   "outputs": [
    {
     "data": {
      "text/plain": [
       "52.051285"
      ]
     },
     "execution_count": 62,
     "metadata": {},
     "output_type": "execute_result"
    }
   ],
   "source": [
    "tf.exp(example_batch_mean_loss).numpy()"
   ]
  },
  {
   "cell_type": "code",
   "execution_count": 63,
   "id": "71795d2a",
   "metadata": {},
   "outputs": [],
   "source": [
    "model.compile(optimizer='adam', loss=loss)"
   ]
  },
  {
   "cell_type": "code",
   "execution_count": 64,
   "id": "82124aea",
   "metadata": {},
   "outputs": [],
   "source": [
    "# Directory where the checkpoints will be saved\n",
    "checkpoint_dir = './training_checkpoints'\n",
    "# Name of the checkpoint files\n",
    "checkpoint_prefix = os.path.join(checkpoint_dir, \"ckpt_{epoch}\")\n",
    "\n",
    "checkpoint_callback = tf.keras.callbacks.ModelCheckpoint(\n",
    "    filepath=checkpoint_prefix,\n",
    "    save_weights_only=True)"
   ]
  },
  {
   "cell_type": "code",
   "execution_count": 71,
   "id": "62ead38f",
   "metadata": {
    "scrolled": true
   },
   "outputs": [
    {
     "name": "stdout",
     "output_type": "stream",
     "text": [
      "Epoch 1/30\n",
      "3/3 [==============================] - 11s 4s/step - loss: 2.7627\n",
      "Epoch 2/30\n",
      "3/3 [==============================] - 10s 4s/step - loss: 2.7127\n",
      "Epoch 3/30\n",
      "3/3 [==============================] - 10s 4s/step - loss: 2.6597\n",
      "Epoch 4/30\n",
      "3/3 [==============================] - 10s 4s/step - loss: 2.6027\n",
      "Epoch 5/30\n",
      "3/3 [==============================] - 10s 4s/step - loss: 2.5562\n",
      "Epoch 6/30\n",
      "3/3 [==============================] - 10s 4s/step - loss: 2.4993\n",
      "Epoch 7/30\n",
      "3/3 [==============================] - 11s 4s/step - loss: 2.4542\n",
      "Epoch 8/30\n",
      "3/3 [==============================] - 11s 4s/step - loss: 2.4126\n",
      "Epoch 9/30\n",
      "3/3 [==============================] - 11s 4s/step - loss: 2.3903\n",
      "Epoch 10/30\n",
      "3/3 [==============================] - 11s 4s/step - loss: 2.3602\n",
      "Epoch 11/30\n",
      "3/3 [==============================] - 12s 4s/step - loss: 2.3311\n",
      "Epoch 12/30\n",
      "3/3 [==============================] - 11s 4s/step - loss: 2.3076\n",
      "Epoch 13/30\n",
      "3/3 [==============================] - 11s 4s/step - loss: 2.2731\n",
      "Epoch 14/30\n",
      "3/3 [==============================] - 11s 4s/step - loss: 2.2667\n",
      "Epoch 15/30\n",
      "3/3 [==============================] - 11s 4s/step - loss: 2.2370\n",
      "Epoch 16/30\n",
      "3/3 [==============================] - 11s 4s/step - loss: 2.2247\n",
      "Epoch 17/30\n",
      "3/3 [==============================] - 11s 4s/step - loss: 2.2030\n",
      "Epoch 18/30\n",
      "3/3 [==============================] - 11s 4s/step - loss: 2.1925\n",
      "Epoch 19/30\n",
      "3/3 [==============================] - 11s 4s/step - loss: 2.1724\n",
      "Epoch 20/30\n",
      "3/3 [==============================] - 11s 4s/step - loss: 2.1551\n",
      "Epoch 21/30\n",
      "3/3 [==============================] - 11s 4s/step - loss: 2.1466\n",
      "Epoch 22/30\n",
      "3/3 [==============================] - 11s 4s/step - loss: 2.1274\n",
      "Epoch 23/30\n",
      "3/3 [==============================] - 11s 4s/step - loss: 2.1179\n",
      "Epoch 24/30\n",
      "3/3 [==============================] - 12s 4s/step - loss: 2.1098\n",
      "Epoch 25/30\n",
      "3/3 [==============================] - 12s 4s/step - loss: 2.0968\n",
      "Epoch 26/30\n",
      "3/3 [==============================] - 12s 4s/step - loss: 2.0759\n",
      "Epoch 27/30\n",
      "3/3 [==============================] - 11s 4s/step - loss: 2.0705\n",
      "Epoch 28/30\n",
      "3/3 [==============================] - 11s 4s/step - loss: 2.0557\n",
      "Epoch 29/30\n",
      "3/3 [==============================] - 11s 4s/step - loss: 2.0321\n",
      "Epoch 30/30\n",
      "3/3 [==============================] - 11s 4s/step - loss: 2.0270\n"
     ]
    }
   ],
   "source": [
    "EPOCHS = 60\n",
    "history = model.fit(dataset, epochs=EPOCHS, callbacks=[checkpoint_callback])"
   ]
  },
  {
   "cell_type": "code",
   "execution_count": 66,
   "id": "32a60bcc",
   "metadata": {},
   "outputs": [],
   "source": [
    "class OneStep(tf.keras.Model):\n",
    "  def __init__(self, model, chars_from_ids, ids_from_chars, temperature=1.0):\n",
    "    super().__init__()\n",
    "    self.temperature = temperature\n",
    "    self.model = model\n",
    "    self.chars_from_ids = chars_from_ids\n",
    "    self.ids_from_chars = ids_from_chars\n",
    "\n",
    "    # Create a mask to prevent \"[UNK]\" from being generated.\n",
    "    skip_ids = self.ids_from_chars(['[UNK]'])[:, None]\n",
    "    sparse_mask = tf.SparseTensor(\n",
    "        # Put a -inf at each bad index.\n",
    "        values=[-float('inf')]*len(skip_ids),\n",
    "        indices=skip_ids,\n",
    "        # Match the shape to the vocabulary\n",
    "        dense_shape=[len(ids_from_chars.get_vocabulary())])\n",
    "    self.prediction_mask = tf.sparse.to_dense(sparse_mask)\n",
    "\n",
    "  @tf.function\n",
    "  def generate_one_step(self, inputs, states=None):\n",
    "    # Convert strings to token IDs.\n",
    "    input_chars = tf.strings.unicode_split(inputs, 'UTF-8')\n",
    "    input_ids = self.ids_from_chars(input_chars).to_tensor()\n",
    "\n",
    "    # Run the model.\n",
    "    # predicted_logits.shape is [batch, char, next_char_logits]\n",
    "    predicted_logits, states = self.model(inputs=input_ids, states=states,\n",
    "                                          return_state=True)\n",
    "    # Only use the last prediction.\n",
    "    predicted_logits = predicted_logits[:, -1, :]\n",
    "    predicted_logits = predicted_logits/self.temperature\n",
    "    # Apply the prediction mask: prevent \"[UNK]\" from being generated.\n",
    "    predicted_logits = predicted_logits + self.prediction_mask\n",
    "\n",
    "    # Sample the output logits to generate token IDs.\n",
    "    predicted_ids = tf.random.categorical(predicted_logits, num_samples=1)\n",
    "    predicted_ids = tf.squeeze(predicted_ids, axis=-1)\n",
    "\n",
    "    # Convert from token ids to characters\n",
    "    predicted_chars = self.chars_from_ids(predicted_ids)\n",
    "\n",
    "    # Return the characters and model state.\n",
    "    return predicted_chars, states"
   ]
  },
  {
   "cell_type": "code",
   "execution_count": 72,
   "id": "23e30a5a",
   "metadata": {},
   "outputs": [],
   "source": [
    "one_step_model = OneStep(model, chars_from_ids, ids_from_chars)"
   ]
  },
  {
   "cell_type": "code",
   "execution_count": 73,
   "id": "9a4343de",
   "metadata": {},
   "outputs": [
    {
     "name": "stdout",
     "output_type": "stream",
     "text": [
      "dividendo cejio res acta es pompradilóz al prunto deftiondes\n",
      "ros lubloxr ecrorcos cémos a astel conciciy eusorodo de\n",
      "nuentrapabili do er gesdoa det vol degtos unovesestano ecicitados damobras acioso cimnodos de\n",
      "benternimpera y prerar acr y a2\n",
      "míy los 3 cosara a teraños lastor furevide en perotarita\n",
      "poradempiartaratia\n",
      "se cenoner sato pra cicien des dementios os suerero siciaños un cos\n",
      "clon cle al\n",
      "uande lo cajompoy al que afrere laszazada a5\n",
      "701% nuelos resitimbiblera nes parta a la pomémocian an al tuy lativar snelcio de\n",
      "que lasinto al menos lemecmos y ajertra mos mensiano de ciestrenos el\n",
      "ruy\n",
      "sus pero iccianmicla au testro bajosol an l pumamo resza\n",
      "momesera an empietor paciparueste sa digibamha la ensimo necla escicicimay de aújpapas\n",
      "in momávaciticio e 202 lertiisdes pa ciemilomás\n",
      "de en as recrome mos pasto unsodo accénta ladofen\n",
      "nefimimúnte mitos1dá do men a\n",
      "melra secorarmos rusa demos do ea coral y 1f25\n",
      "25 pre entefociedor o\n",
      "por nemencocabse calo selís a estosas do\n",
      "as centartros sercorimra so \n",
      "\n",
      "________________________________________________________________________________\n",
      "\n",
      "Run time: 4.422663450241089\n"
     ]
    }
   ],
   "source": [
    "start = time.time()\n",
    "states = None\n",
    "next_char = tf.constant(['dividendo'])\n",
    "result = [next_char]\n",
    "\n",
    "for n in range(1000):\n",
    "  next_char, states = one_step_model.generate_one_step(next_char, states=states)\n",
    "  result.append(next_char)\n",
    "\n",
    "result = tf.strings.join(result)\n",
    "end = time.time()\n",
    "print(result[0].numpy().decode('utf-8'), '\\n\\n' + '_'*80)\n",
    "print('\\nRun time:', end - start)"
   ]
  }
 ],
 "metadata": {
  "kernelspec": {
   "display_name": "Python 3",
   "language": "python",
   "name": "python3"
  },
  "language_info": {
   "codemirror_mode": {
    "name": "ipython",
    "version": 3
   },
   "file_extension": ".py",
   "mimetype": "text/x-python",
   "name": "python",
   "nbconvert_exporter": "python",
   "pygments_lexer": "ipython3",
   "version": "3.8.8"
  }
 },
 "nbformat": 4,
 "nbformat_minor": 5
}
