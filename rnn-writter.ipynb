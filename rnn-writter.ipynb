{
 "cells": [
  {
   "cell_type": "code",
   "execution_count": 1,
   "id": "549ec117",
   "metadata": {},
   "outputs": [],
   "source": [
    "import tensorflow as tf\n",
    "import numpy as np\n",
    "from tensorflow.keras import layers\n",
    "import random\n",
    "import numpy as np\n",
    "import sys"
   ]
  },
  {
   "cell_type": "code",
   "execution_count": 2,
   "id": "5b779497",
   "metadata": {},
   "outputs": [
    {
     "name": "stdout",
     "output_type": "stream",
     "text": [
      " capitulo 1 que trata de la condicion y ejercicio del famoso hidalgo d quijote de la mancha en un lugar de la mancha de cuyo nombre no quiero acordarme no ha mucho tiempo que vivia un hidalgo de los d\n"
     ]
    }
   ],
   "source": [
    "\n",
    "filename = \"el_quijote.txt\"\n",
    "text = open(filename, encoding=\"utf-8\").read()\n",
    "text = text.replace('\\n', ' ').replace('\\r', '').replace('-',' ').replace(\"!\",\"\").replace(\"¿\",\"\").replace(\"¡\",\"\").replace(\"?\",\"\").replace(\"(\",\"\").replace(\")\",\"\")\n",
    "text = text.replace(': ',' ').replace(':',' ').replace('. ',' ').replace('.',' ').replace(',',' ').replace('<','').replace('>','')\n",
    "text = text.replace('«','').replace('»','')\n",
    "text = text.replace('[',' ').replace(']',' ').replace(\"'\",\"\").replace('\"','').replace(';','').replace('-',' ').replace('  ',' ')\n",
    "text = text.lower()\n",
    "print(text[:200])"
   ]
  },
  {
   "cell_type": "markdown",
   "id": "a3c6537f",
   "metadata": {},
   "source": [
    "## Data Pre-Processing"
   ]
  },
  {
   "cell_type": "code",
   "execution_count": 4,
   "id": "017afa38",
   "metadata": {},
   "outputs": [
    {
     "name": "stdout",
     "output_type": "stream",
     "text": [
      "[' capitulo 1 que trata de la condicion y ejercicio del famoso', 'pitulo 1 que trata de la condicion y ejercicio del famoso hi', 'ulo 1 que trata de la condicion y ejercicio del famoso hidal', ' 1 que trata de la condicion y ejercicio del famoso hidalgo ', 'que trata de la condicion y ejercicio del famoso hidalgo d q']\n",
      "['capitulo 1 que trata de la condicion y ejercicio del famoso ', 'itulo 1 que trata de la condicion y ejercicio del famoso hid', 'lo 1 que trata de la condicion y ejercicio del famoso hidalg', '1 que trata de la condicion y ejercicio del famoso hidalgo d', 'ue trata de la condicion y ejercicio del famoso hidalgo d qu']\n"
     ]
    }
   ],
   "source": [
    "maxlen = 60 #extract sequences of length 60\n",
    "step = 3\n",
    "sentences = []\t#holds extracted sequences\n",
    "next_chars = [] #holds the targets\n",
    "for i in range(0, len(text)-maxlen, step):\n",
    "    sentences.append(text[i:i+maxlen])\n",
    "    next_chars.append(text[i+1:i+maxlen+1])\n",
    "print(sentences[:5])\n",
    "print(next_chars[:5])"
   ]
  },
  {
   "cell_type": "code",
   "execution_count": 5,
   "id": "99a96349",
   "metadata": {
    "scrolled": true
   },
   "outputs": [
    {
     "name": "stdout",
     "output_type": "stream",
     "text": [
      "{' ': 0, '0': 1, '1': 2, '2': 3, '3': 4, '4': 5, '5': 6, '6': 7, '7': 8, '8': 9, '9': 10, 'a': 11, 'b': 12, 'c': 13, 'd': 14, 'e': 15, 'f': 16, 'g': 17, 'h': 18, 'i': 19, 'j': 20, 'k': 21, 'l': 22, 'm': 23, 'n': 24, 'o': 25, 'p': 26, 'q': 27, 'r': 28, 's': 29, 't': 30, 'u': 31, 'v': 32, 'x': 33, 'y': 34, 'z': 35, '̃': 36, '̈': 37}\n"
     ]
    }
   ],
   "source": [
    "#VECTORIZATION\n",
    "chars = sorted(set(text))\n",
    "char_indices = dict((char, chars.index(char)) for char in chars)\n",
    "print(char_indices)"
   ]
  },
  {
   "cell_type": "code",
   "execution_count": 6,
   "id": "c04bb30a",
   "metadata": {},
   "outputs": [
    {
     "name": "stdout",
     "output_type": "stream",
     "text": [
      "Seq:0 -> Sentencia:  capitulo 1 que trata de la condicion y ejercicio del famoso -> NextChar: capitulo 1 que trata de la condicion y ejercicio del famoso \n",
      "Seq:1 -> Sentencia: pitulo 1 que trata de la condicion y ejercicio del famoso hi -> NextChar: itulo 1 que trata de la condicion y ejercicio del famoso hid\n",
      "Seq:2 -> Sentencia: ulo 1 que trata de la condicion y ejercicio del famoso hidal -> NextChar: lo 1 que trata de la condicion y ejercicio del famoso hidalg\n",
      "Seq:3 -> Sentencia:  1 que trata de la condicion y ejercicio del famoso hidalgo  -> NextChar: 1 que trata de la condicion y ejercicio del famoso hidalgo d\n",
      "Seq:4 -> Sentencia: que trata de la condicion y ejercicio del famoso hidalgo d q -> NextChar: ue trata de la condicion y ejercicio del famoso hidalgo d qu\n",
      "Seq:5 -> Sentencia:  trata de la condicion y ejercicio del famoso hidalgo d quij -> NextChar: trata de la condicion y ejercicio del famoso hidalgo d quijo\n",
      "Seq:6 -> Sentencia: ata de la condicion y ejercicio del famoso hidalgo d quijote -> NextChar: ta de la condicion y ejercicio del famoso hidalgo d quijote \n",
      "Seq:7 -> Sentencia:  de la condicion y ejercicio del famoso hidalgo d quijote de -> NextChar: de la condicion y ejercicio del famoso hidalgo d quijote de \n",
      "Seq:8 -> Sentencia:  la condicion y ejercicio del famoso hidalgo d quijote de la -> NextChar: la condicion y ejercicio del famoso hidalgo d quijote de la \n",
      "Seq:9 -> Sentencia:  condicion y ejercicio del famoso hidalgo d quijote de la ma -> NextChar: condicion y ejercicio del famoso hidalgo d quijote de la man\n",
      "Seq:10 -> Sentencia: ndicion y ejercicio del famoso hidalgo d quijote de la manch -> NextChar: dicion y ejercicio del famoso hidalgo d quijote de la mancha\n",
      "Seq:11 -> Sentencia: cion y ejercicio del famoso hidalgo d quijote de la mancha e -> NextChar: ion y ejercicio del famoso hidalgo d quijote de la mancha en\n",
      "Seq:12 -> Sentencia: n y ejercicio del famoso hidalgo d quijote de la mancha en u -> NextChar:  y ejercicio del famoso hidalgo d quijote de la mancha en un\n",
      "Seq:13 -> Sentencia:  ejercicio del famoso hidalgo d quijote de la mancha en un l -> NextChar: ejercicio del famoso hidalgo d quijote de la mancha en un lu\n",
      "Seq:14 -> Sentencia: ercicio del famoso hidalgo d quijote de la mancha en un luga -> NextChar: rcicio del famoso hidalgo d quijote de la mancha en un lugar\n",
      "Seq:15 -> Sentencia: icio del famoso hidalgo d quijote de la mancha en un lugar d -> NextChar: cio del famoso hidalgo d quijote de la mancha en un lugar de\n",
      "Seq:16 -> Sentencia: o del famoso hidalgo d quijote de la mancha en un lugar de l -> NextChar:  del famoso hidalgo d quijote de la mancha en un lugar de la\n",
      "Seq:17 -> Sentencia: el famoso hidalgo d quijote de la mancha en un lugar de la m -> NextChar: l famoso hidalgo d quijote de la mancha en un lugar de la ma\n",
      "Seq:18 -> Sentencia: famoso hidalgo d quijote de la mancha en un lugar de la manc -> NextChar: amoso hidalgo d quijote de la mancha en un lugar de la manch\n",
      "Seq:19 -> Sentencia: oso hidalgo d quijote de la mancha en un lugar de la mancha  -> NextChar: so hidalgo d quijote de la mancha en un lugar de la mancha d\n",
      "Seq:20 -> Sentencia:  hidalgo d quijote de la mancha en un lugar de la mancha de  -> NextChar: hidalgo d quijote de la mancha en un lugar de la mancha de c\n",
      "Seq:21 -> Sentencia: dalgo d quijote de la mancha en un lugar de la mancha de cuy -> NextChar: algo d quijote de la mancha en un lugar de la mancha de cuyo\n",
      "Seq:22 -> Sentencia: go d quijote de la mancha en un lugar de la mancha de cuyo n -> NextChar: o d quijote de la mancha en un lugar de la mancha de cuyo no\n",
      "Seq:23 -> Sentencia: d quijote de la mancha en un lugar de la mancha de cuyo nomb -> NextChar:  quijote de la mancha en un lugar de la mancha de cuyo nombr\n",
      "Seq:24 -> Sentencia: uijote de la mancha en un lugar de la mancha de cuyo nombre  -> NextChar: ijote de la mancha en un lugar de la mancha de cuyo nombre n\n",
      "Seq:25 -> Sentencia: ote de la mancha en un lugar de la mancha de cuyo nombre no  -> NextChar: te de la mancha en un lugar de la mancha de cuyo nombre no q\n",
      "Seq:26 -> Sentencia:  de la mancha en un lugar de la mancha de cuyo nombre no qui -> NextChar: de la mancha en un lugar de la mancha de cuyo nombre no quie\n",
      "Seq:27 -> Sentencia:  la mancha en un lugar de la mancha de cuyo nombre no quiero -> NextChar: la mancha en un lugar de la mancha de cuyo nombre no quiero \n",
      "Seq:28 -> Sentencia:  mancha en un lugar de la mancha de cuyo nombre no quiero ac -> NextChar: mancha en un lugar de la mancha de cuyo nombre no quiero aco\n",
      "Seq:29 -> Sentencia: ncha en un lugar de la mancha de cuyo nombre no quiero acord -> NextChar: cha en un lugar de la mancha de cuyo nombre no quiero acorda\n",
      "Seq:30 -> Sentencia: a en un lugar de la mancha de cuyo nombre no quiero acordarm -> NextChar:  en un lugar de la mancha de cuyo nombre no quiero acordarme\n",
      "Seq:31 -> Sentencia: n un lugar de la mancha de cuyo nombre no quiero acordarme n -> NextChar:  un lugar de la mancha de cuyo nombre no quiero acordarme no\n",
      "Seq:32 -> Sentencia: n lugar de la mancha de cuyo nombre no quiero acordarme no h -> NextChar:  lugar de la mancha de cuyo nombre no quiero acordarme no ha\n",
      "Seq:33 -> Sentencia: ugar de la mancha de cuyo nombre no quiero acordarme no ha m -> NextChar: gar de la mancha de cuyo nombre no quiero acordarme no ha mu\n",
      "Seq:34 -> Sentencia: r de la mancha de cuyo nombre no quiero acordarme no ha much -> NextChar:  de la mancha de cuyo nombre no quiero acordarme no ha mucho\n",
      "Seq:35 -> Sentencia: e la mancha de cuyo nombre no quiero acordarme no ha mucho t -> NextChar:  la mancha de cuyo nombre no quiero acordarme no ha mucho ti\n",
      "Seq:36 -> Sentencia: a mancha de cuyo nombre no quiero acordarme no ha mucho tiem -> NextChar:  mancha de cuyo nombre no quiero acordarme no ha mucho tiemp\n",
      "Seq:37 -> Sentencia: ancha de cuyo nombre no quiero acordarme no ha mucho tiempo  -> NextChar: ncha de cuyo nombre no quiero acordarme no ha mucho tiempo q\n",
      "Seq:38 -> Sentencia: ha de cuyo nombre no quiero acordarme no ha mucho tiempo que -> NextChar: a de cuyo nombre no quiero acordarme no ha mucho tiempo que \n",
      "Seq:39 -> Sentencia: de cuyo nombre no quiero acordarme no ha mucho tiempo que vi -> NextChar: e cuyo nombre no quiero acordarme no ha mucho tiempo que viv\n",
      "Seq:40 -> Sentencia: cuyo nombre no quiero acordarme no ha mucho tiempo que vivia -> NextChar: uyo nombre no quiero acordarme no ha mucho tiempo que vivia \n",
      "Seq:41 -> Sentencia: o nombre no quiero acordarme no ha mucho tiempo que vivia un -> NextChar:  nombre no quiero acordarme no ha mucho tiempo que vivia un \n",
      "Seq:42 -> Sentencia: ombre no quiero acordarme no ha mucho tiempo que vivia un hi -> NextChar: mbre no quiero acordarme no ha mucho tiempo que vivia un hid\n",
      "Seq:43 -> Sentencia: re no quiero acordarme no ha mucho tiempo que vivia un hidal -> NextChar: e no quiero acordarme no ha mucho tiempo que vivia un hidalg\n",
      "Seq:44 -> Sentencia: no quiero acordarme no ha mucho tiempo que vivia un hidalgo  -> NextChar: o quiero acordarme no ha mucho tiempo que vivia un hidalgo d\n",
      "Seq:45 -> Sentencia: quiero acordarme no ha mucho tiempo que vivia un hidalgo de  -> NextChar: uiero acordarme no ha mucho tiempo que vivia un hidalgo de l\n",
      "Seq:46 -> Sentencia: ero acordarme no ha mucho tiempo que vivia un hidalgo de los -> NextChar: ro acordarme no ha mucho tiempo que vivia un hidalgo de los \n",
      "Seq:47 -> Sentencia:  acordarme no ha mucho tiempo que vivia un hidalgo de los de -> NextChar: acordarme no ha mucho tiempo que vivia un hidalgo de los de \n",
      "Seq:48 -> Sentencia: ordarme no ha mucho tiempo que vivia un hidalgo de los de la -> NextChar: rdarme no ha mucho tiempo que vivia un hidalgo de los de lan\n",
      "Seq:49 -> Sentencia: arme no ha mucho tiempo que vivia un hidalgo de los de lanza -> NextChar: rme no ha mucho tiempo que vivia un hidalgo de los de lanza \n",
      "Seq:50 -> Sentencia: e no ha mucho tiempo que vivia un hidalgo de los de lanza en -> NextChar:  no ha mucho tiempo que vivia un hidalgo de los de lanza en \n",
      "Seq:51 -> Sentencia: o ha mucho tiempo que vivia un hidalgo de los de lanza en as -> NextChar:  ha mucho tiempo que vivia un hidalgo de los de lanza en ast\n",
      "Seq:52 -> Sentencia: a mucho tiempo que vivia un hidalgo de los de lanza en astil -> NextChar:  mucho tiempo que vivia un hidalgo de los de lanza en astill\n",
      "Seq:53 -> Sentencia: ucho tiempo que vivia un hidalgo de los de lanza en astiller -> NextChar: cho tiempo que vivia un hidalgo de los de lanza en astillero\n",
      "Seq:54 -> Sentencia: o tiempo que vivia un hidalgo de los de lanza en astillero a -> NextChar:  tiempo que vivia un hidalgo de los de lanza en astillero ad\n",
      "Seq:55 -> Sentencia: iempo que vivia un hidalgo de los de lanza en astillero adar -> NextChar: empo que vivia un hidalgo de los de lanza en astillero adarg\n",
      "Seq:56 -> Sentencia: po que vivia un hidalgo de los de lanza en astillero adarga  -> NextChar: o que vivia un hidalgo de los de lanza en astillero adarga a\n",
      "Seq:57 -> Sentencia: que vivia un hidalgo de los de lanza en astillero adarga ant -> NextChar: ue vivia un hidalgo de los de lanza en astillero adarga anti\n",
      "Seq:58 -> Sentencia:  vivia un hidalgo de los de lanza en astillero adarga antigu -> NextChar: vivia un hidalgo de los de lanza en astillero adarga antigua\n",
      "Seq:59 -> Sentencia: via un hidalgo de los de lanza en astillero adarga antigua r -> NextChar: ia un hidalgo de los de lanza en astillero adarga antigua ro\n",
      "Seq:60 -> Sentencia:  un hidalgo de los de lanza en astillero adarga antigua roci -> NextChar: un hidalgo de los de lanza en astillero adarga antigua rocin\n",
      "Seq:61 -> Sentencia:  hidalgo de los de lanza en astillero adarga antigua rocin f -> NextChar: hidalgo de los de lanza en astillero adarga antigua rocin fl\n",
      "Seq:62 -> Sentencia: dalgo de los de lanza en astillero adarga antigua rocin flac -> NextChar: algo de los de lanza en astillero adarga antigua rocin flaco\n",
      "Seq:63 -> Sentencia: go de los de lanza en astillero adarga antigua rocin flaco y -> NextChar: o de los de lanza en astillero adarga antigua rocin flaco y \n",
      "Seq:64 -> Sentencia: de los de lanza en astillero adarga antigua rocin flaco y ga -> NextChar: e los de lanza en astillero adarga antigua rocin flaco y gal\n",
      "Seq:65 -> Sentencia: los de lanza en astillero adarga antigua rocin flaco y galgo -> NextChar: os de lanza en astillero adarga antigua rocin flaco y galgo \n",
      "Seq:66 -> Sentencia:  de lanza en astillero adarga antigua rocin flaco y galgo co -> NextChar: de lanza en astillero adarga antigua rocin flaco y galgo cor\n",
      "Seq:67 -> Sentencia:  lanza en astillero adarga antigua rocin flaco y galgo corre -> NextChar: lanza en astillero adarga antigua rocin flaco y galgo corred\n",
      "Seq:68 -> Sentencia: nza en astillero adarga antigua rocin flaco y galgo corredor -> NextChar: za en astillero adarga antigua rocin flaco y galgo corredor \n",
      "Seq:69 -> Sentencia:  en astillero adarga antigua rocin flaco y galgo corredor un -> NextChar: en astillero adarga antigua rocin flaco y galgo corredor una\n",
      "Seq:70 -> Sentencia:  astillero adarga antigua rocin flaco y galgo corredor una o -> NextChar: astillero adarga antigua rocin flaco y galgo corredor una ol\n",
      "Seq:71 -> Sentencia: tillero adarga antigua rocin flaco y galgo corredor una olla -> NextChar: illero adarga antigua rocin flaco y galgo corredor una olla \n",
      "Seq:72 -> Sentencia: lero adarga antigua rocin flaco y galgo corredor una olla de -> NextChar: ero adarga antigua rocin flaco y galgo corredor una olla de \n",
      "Seq:73 -> Sentencia: o adarga antigua rocin flaco y galgo corredor una olla de al -> NextChar:  adarga antigua rocin flaco y galgo corredor una olla de alg\n",
      "Seq:74 -> Sentencia: darga antigua rocin flaco y galgo corredor una olla de algo  -> NextChar: arga antigua rocin flaco y galgo corredor una olla de algo m\n",
      "Seq:75 -> Sentencia: ga antigua rocin flaco y galgo corredor una olla de algo mas -> NextChar: a antigua rocin flaco y galgo corredor una olla de algo mas \n",
      "Seq:76 -> Sentencia: antigua rocin flaco y galgo corredor una olla de algo mas va -> NextChar: ntigua rocin flaco y galgo corredor una olla de algo mas vac\n",
      "Seq:77 -> Sentencia: igua rocin flaco y galgo corredor una olla de algo mas vaca  -> NextChar: gua rocin flaco y galgo corredor una olla de algo mas vaca q\n",
      "Seq:78 -> Sentencia: a rocin flaco y galgo corredor una olla de algo mas vaca que -> NextChar:  rocin flaco y galgo corredor una olla de algo mas vaca que \n",
      "Seq:79 -> Sentencia: ocin flaco y galgo corredor una olla de algo mas vaca que ca -> NextChar: cin flaco y galgo corredor una olla de algo mas vaca que car\n",
      "Seq:80 -> Sentencia: n flaco y galgo corredor una olla de algo mas vaca que carne -> NextChar:  flaco y galgo corredor una olla de algo mas vaca que carner\n",
      "Seq:81 -> Sentencia: laco y galgo corredor una olla de algo mas vaca que carnero  -> NextChar: aco y galgo corredor una olla de algo mas vaca que carnero s\n",
      "Seq:82 -> Sentencia: o y galgo corredor una olla de algo mas vaca que carnero sal -> NextChar:  y galgo corredor una olla de algo mas vaca que carnero salp\n",
      "Seq:83 -> Sentencia:  galgo corredor una olla de algo mas vaca que carnero salpic -> NextChar: galgo corredor una olla de algo mas vaca que carnero salpico\n",
      "Seq:84 -> Sentencia: lgo corredor una olla de algo mas vaca que carnero salpicon  -> NextChar: go corredor una olla de algo mas vaca que carnero salpicon l\n",
      "Seq:85 -> Sentencia:  corredor una olla de algo mas vaca que carnero salpicon las -> NextChar: corredor una olla de algo mas vaca que carnero salpicon las \n",
      "Seq:86 -> Sentencia: rredor una olla de algo mas vaca que carnero salpicon las ma -> NextChar: redor una olla de algo mas vaca que carnero salpicon las mas\n",
      "Seq:87 -> Sentencia: dor una olla de algo mas vaca que carnero salpicon las mas n -> NextChar: or una olla de algo mas vaca que carnero salpicon las mas no\n",
      "Seq:88 -> Sentencia:  una olla de algo mas vaca que carnero salpicon las mas noch -> NextChar: una olla de algo mas vaca que carnero salpicon las mas noche\n",
      "Seq:89 -> Sentencia: a olla de algo mas vaca que carnero salpicon las mas noches  -> NextChar:  olla de algo mas vaca que carnero salpicon las mas noches d\n",
      "Seq:90 -> Sentencia: lla de algo mas vaca que carnero salpicon las mas noches due -> NextChar: la de algo mas vaca que carnero salpicon las mas noches duel\n",
      "Seq:91 -> Sentencia:  de algo mas vaca que carnero salpicon las mas noches duelos -> NextChar: de algo mas vaca que carnero salpicon las mas noches duelos \n",
      "Seq:92 -> Sentencia:  algo mas vaca que carnero salpicon las mas noches duelos y  -> NextChar: algo mas vaca que carnero salpicon las mas noches duelos y q\n",
      "Seq:93 -> Sentencia: go mas vaca que carnero salpicon las mas noches duelos y que -> NextChar: o mas vaca que carnero salpicon las mas noches duelos y queb\n",
      "Seq:94 -> Sentencia: mas vaca que carnero salpicon las mas noches duelos y quebra -> NextChar: as vaca que carnero salpicon las mas noches duelos y quebran\n",
      "Seq:95 -> Sentencia:  vaca que carnero salpicon las mas noches duelos y quebranto -> NextChar: vaca que carnero salpicon las mas noches duelos y quebrantos\n",
      "Seq:96 -> Sentencia: ca que carnero salpicon las mas noches duelos y quebrantos l -> NextChar: a que carnero salpicon las mas noches duelos y quebrantos lo\n",
      "Seq:97 -> Sentencia: que carnero salpicon las mas noches duelos y quebrantos los  -> NextChar: ue carnero salpicon las mas noches duelos y quebrantos los s\n",
      "Seq:98 -> Sentencia:  carnero salpicon las mas noches duelos y quebrantos los sab -> NextChar: carnero salpicon las mas noches duelos y quebrantos los saba\n",
      "Seq:99 -> Sentencia: rnero salpicon las mas noches duelos y quebrantos los sabado -> NextChar: nero salpicon las mas noches duelos y quebrantos los sabados\n"
     ]
    }
   ],
   "source": [
    "for i, sentence in enumerate(sentences[0:100]):\n",
    "    print(\"Seq:{} -> Sentencia: {} -> NextChar: {}\".format(i,sentence,next_chars[i]))"
   ]
  },
  {
   "cell_type": "code",
   "execution_count": 7,
   "id": "7a4374b8",
   "metadata": {},
   "outputs": [
    {
     "name": "stdout",
     "output_type": "stream",
     "text": [
      " capitulo 1 que trata de la condicion y ejercicio del famoso\n",
      "   ->  0\n",
      "c  ->  13\n",
      "a  ->  11\n",
      "p  ->  26\n",
      "i  ->  19\n",
      "t  ->  30\n",
      "u  ->  31\n",
      "l  ->  22\n",
      "o  ->  25\n",
      "   ->  0\n",
      "1  ->  2\n",
      "   ->  0\n",
      "q  ->  27\n",
      "u  ->  31\n",
      "e  ->  15\n",
      "   ->  0\n",
      "t  ->  30\n",
      "r  ->  28\n",
      "a  ->  11\n",
      "t  ->  30\n",
      "a  ->  11\n",
      "   ->  0\n",
      "d  ->  14\n",
      "e  ->  15\n",
      "   ->  0\n",
      "l  ->  22\n",
      "a  ->  11\n",
      "   ->  0\n",
      "c  ->  13\n",
      "o  ->  25\n",
      "n  ->  24\n",
      "d  ->  14\n",
      "i  ->  19\n",
      "c  ->  13\n",
      "i  ->  19\n",
      "o  ->  25\n",
      "n  ->  24\n",
      "   ->  0\n",
      "y  ->  34\n",
      "   ->  0\n",
      "e  ->  15\n",
      "j  ->  20\n",
      "e  ->  15\n",
      "r  ->  28\n",
      "c  ->  13\n",
      "i  ->  19\n",
      "c  ->  13\n",
      "i  ->  19\n",
      "o  ->  25\n",
      "   ->  0\n",
      "d  ->  14\n",
      "e  ->  15\n",
      "l  ->  22\n",
      "   ->  0\n",
      "f  ->  16\n",
      "a  ->  11\n",
      "m  ->  23\n",
      "o  ->  25\n",
      "s  ->  29\n",
      "o  ->  25\n"
     ]
    }
   ],
   "source": [
    "print(sentences[0])\n",
    "for t, char in enumerate(sentences[0]):        \n",
    "        print(char,\" -> \",char_indices[char])"
   ]
  },
  {
   "cell_type": "code",
   "execution_count": 8,
   "id": "6af1e192",
   "metadata": {},
   "outputs": [
    {
     "ename": "KeyError",
     "evalue": "'capitulo 1 que trata de la condicion y ejercicio del famoso '",
     "output_type": "error",
     "traceback": [
      "\u001b[1;31m---------------------------------------------------------------------------\u001b[0m",
      "\u001b[1;31mKeyError\u001b[0m                                  Traceback (most recent call last)",
      "\u001b[1;32m<ipython-input-8-d884d002001e>\u001b[0m in \u001b[0;36m<module>\u001b[1;34m\u001b[0m\n\u001b[0;32m      2\u001b[0m \u001b[0my\u001b[0m \u001b[1;33m=\u001b[0m \u001b[0mnp\u001b[0m\u001b[1;33m.\u001b[0m\u001b[0mzeros\u001b[0m\u001b[1;33m(\u001b[0m\u001b[1;33m(\u001b[0m\u001b[0mlen\u001b[0m\u001b[1;33m(\u001b[0m\u001b[0msentences\u001b[0m\u001b[1;33m)\u001b[0m\u001b[1;33m,\u001b[0m \u001b[0mlen\u001b[0m\u001b[1;33m(\u001b[0m\u001b[0mchars\u001b[0m\u001b[1;33m)\u001b[0m\u001b[1;33m)\u001b[0m\u001b[1;33m,\u001b[0m \u001b[0mdtype\u001b[0m\u001b[1;33m=\u001b[0m\u001b[0mint\u001b[0m\u001b[1;33m)\u001b[0m\u001b[1;33m\u001b[0m\u001b[1;33m\u001b[0m\u001b[0m\n\u001b[0;32m      3\u001b[0m \u001b[1;32mfor\u001b[0m \u001b[0mi\u001b[0m\u001b[1;33m,\u001b[0m \u001b[0msentence\u001b[0m \u001b[1;32min\u001b[0m \u001b[0menumerate\u001b[0m\u001b[1;33m(\u001b[0m\u001b[0msentences\u001b[0m\u001b[1;33m)\u001b[0m\u001b[1;33m:\u001b[0m\u001b[1;33m\u001b[0m\u001b[1;33m\u001b[0m\u001b[0m\n\u001b[1;32m----> 4\u001b[1;33m     \u001b[0my\u001b[0m\u001b[1;33m[\u001b[0m\u001b[0mi\u001b[0m\u001b[1;33m,\u001b[0m \u001b[0mchar_indices\u001b[0m\u001b[1;33m[\u001b[0m\u001b[0mnext_chars\u001b[0m\u001b[1;33m[\u001b[0m\u001b[0mi\u001b[0m\u001b[1;33m]\u001b[0m\u001b[1;33m]\u001b[0m\u001b[1;33m]\u001b[0m \u001b[1;33m=\u001b[0m \u001b[1;36m1\u001b[0m\u001b[1;33m\u001b[0m\u001b[1;33m\u001b[0m\u001b[0m\n\u001b[0m\u001b[0;32m      5\u001b[0m     \u001b[1;32mfor\u001b[0m \u001b[0mt\u001b[0m\u001b[1;33m,\u001b[0m \u001b[0mchar\u001b[0m \u001b[1;32min\u001b[0m \u001b[0menumerate\u001b[0m\u001b[1;33m(\u001b[0m\u001b[0msentence\u001b[0m\u001b[1;33m)\u001b[0m\u001b[1;33m:\u001b[0m\u001b[1;33m\u001b[0m\u001b[1;33m\u001b[0m\u001b[0m\n\u001b[0;32m      6\u001b[0m         \u001b[0mx\u001b[0m\u001b[1;33m[\u001b[0m\u001b[0mi\u001b[0m\u001b[1;33m,\u001b[0m \u001b[0mt\u001b[0m\u001b[1;33m,\u001b[0m \u001b[0mchar_indices\u001b[0m\u001b[1;33m[\u001b[0m\u001b[0mchar\u001b[0m\u001b[1;33m]\u001b[0m\u001b[1;33m]\u001b[0m \u001b[1;33m=\u001b[0m \u001b[1;36m1\u001b[0m\u001b[1;33m\u001b[0m\u001b[1;33m\u001b[0m\u001b[0m\n",
      "\u001b[1;31mKeyError\u001b[0m: 'capitulo 1 que trata de la condicion y ejercicio del famoso '"
     ]
    }
   ],
   "source": [
    "x = np.zeros((len(sentences), maxlen, len(chars)), dtype=int)\n",
    "y = np.zeros((len(sentences), len(chars)), dtype=int)\n",
    "for i, sentence in enumerate(sentences):\n",
    "    y[i, char_indices[next_chars[i]]] = 1\n",
    "    for t, char in enumerate(sentence):\n",
    "        x[i, t, char_indices[char]] = 1"
   ]
  },
  {
   "cell_type": "code",
   "execution_count": 43,
   "id": "41af84fe",
   "metadata": {},
   "outputs": [
    {
     "name": "stdout",
     "output_type": "stream",
     "text": [
      "[1 0 0 0 0 0 0 0 0 0 0 0 0 0 0 0 0 0 0 0 0 0 0 0 0 0 0 0 0 0 0 0 0 0 0 0 0\n",
      " 0]\n"
     ]
    }
   ],
   "source": [
    "print(x[0][0])"
   ]
  },
  {
   "cell_type": "code",
   "execution_count": 44,
   "id": "e41b5220",
   "metadata": {},
   "outputs": [
    {
     "name": "stdout",
     "output_type": "stream",
     "text": [
      "x -> 133898 x 60 x 38\n",
      "y -> 133898 x 38\n"
     ]
    }
   ],
   "source": [
    "print(\"x -> {} x {} x {}\".format(len(x), len(x[0]), len(x[0][0])))\n",
    "print(\"y -> {} x {}\".format(len(y),len(y[0])))"
   ]
  },
  {
   "cell_type": "markdown",
   "id": "199935d0",
   "metadata": {},
   "source": [
    "## Building the Network"
   ]
  },
  {
   "cell_type": "code",
   "execution_count": 45,
   "id": "1cdc2e08",
   "metadata": {},
   "outputs": [],
   "source": [
    "model = tf.keras.models.Sequential()\n",
    "model.add(layers.LSTM(128, input_shape=(maxlen, len(chars))))\n",
    "model.add(layers.Dense(len(chars), activation=\"softmax\"))"
   ]
  },
  {
   "cell_type": "code",
   "execution_count": 46,
   "id": "d296eb68",
   "metadata": {},
   "outputs": [],
   "source": [
    "opt = tf.keras.optimizers.RMSprop(learning_rate=0.1)\n",
    "model.compile(loss=\"categorical_crossentropy\", optimizer=opt)"
   ]
  },
  {
   "cell_type": "code",
   "execution_count": 47,
   "id": "1656c9d5",
   "metadata": {},
   "outputs": [],
   "source": [
    "def sample_next_char(preds, temperature=0.2):\n",
    "    preds = np.asarray(preds).astype('float64')\n",
    "    preds = np.log(preds) / temperature\n",
    "    exp_preds = np.exp(preds)\n",
    "    preds = exp_preds / np.sum(exp_preds)\n",
    "    probas = np.random.multinomial(1, preds, 1)\n",
    "    return np.argmax(probas)"
   ]
  },
  {
   "cell_type": "code",
   "execution_count": 48,
   "id": "0623cd04",
   "metadata": {},
   "outputs": [
    {
     "name": "stdout",
     "output_type": "stream",
     "text": [
      "epoch  1\n",
      "1047/1047 [==============================] - 118s 110ms/step - loss: 2.7155\n",
      "--- Generating with seed:  go y si no llevarlos al corral y alli se hara la hoguera y \n",
      "gvvhvgvvtgvggghvgggvhvhgdgggvgvggvdggdvdggvvdggvvdggggdvhvtvggggdvvtggtvvvvggggghggghvgggggtghvdgdggepoch  2\n",
      "1047/1047 [==============================] - 118s 113ms/step - loss: 1.8485\n",
      "--- Generating with seed:  como lo dejo mandado grisostomo y sobre esto anda el pueblo\n",
      "                         p         t             t                                      p           epoch  3\n",
      "1047/1047 [==============================] - 123s 118ms/step - loss: 10.4907\n",
      "--- Generating with seed:   del mas pequeño dolor que tenga si ya no se entiende tamb\n",
      "rd"
     ]
    },
    {
     "name": "stderr",
     "output_type": "stream",
     "text": [
      "<ipython-input-47-3d191d290153>:3: RuntimeWarning: divide by zero encountered in log\n",
      "  preds = np.log(preds) / temperature\n"
     ]
    },
    {
     "name": "stdout",
     "output_type": "stream",
     "text": [
      "ny ynasaa tcsl snpcrs yprmsnsoayisidl nrala pf araojr a pexj laaaaaaaaaaaaaaaaaaaaaaaaaaaaaaaaaaaaepoch  4\n",
      "1047/1047 [==============================] - 121s 115ms/step - loss: 22.3270\n",
      "--- Generating with seed:  a de quemarlos que de echar una tela por grande y delgada q\n",
      "leecdeideeegle deeqeceelcejeejeeeedeetleectecednẽleecectte le le lee lene le le le le le le le le lepoch  5\n",
      "1047/1047 [==============================] - 122s 116ms/step - loss: 6.7279\n",
      "--- Generating with seed:   de esta historia esta batalla disculpandose que no hallo m\n",
      "ooeeooo sjmoyosoe sses ys oeoevoeyso oomo sysooooogxoeoeoo eose o e e e o e e o ese e e e e e e e e epoch  6\n",
      "1047/1047 [==============================] - 117s 112ms/step - loss: 4.0230\n",
      "--- Generating with seed:  a contrahecha celada que traia atada con unas cintas verdes\n",
      "   ooppe o o o dp  pp     pp  opop oe p   ddp p  p      dp p o   p   p     p p p        p       p   epoch  7\n",
      "1047/1047 [==============================] - 116s 111ms/step - loss: 3.6588\n",
      "--- Generating with seed:  s menester deshacer este tuerto a todo mi poderio peor sera\n",
      " i iii   dii iii i  e i  isi ii ii iiiiii iiii i   ziiii c iiiiiiiiiiiiiiiiiiiiiiiiiiiiiiiiiiiiiiiiiepoch  8\n",
      "1047/1047 [==============================] - 117s 111ms/step - loss: 3.5892\n",
      "--- Generating with seed:  n melindres sin respetos aunque sea pan y cebolla que los g\n",
      " cout  tcicoc u ttciccc cttoccc c tc ctu  i     cicctct   ccccccccccccccccccccccccccccccccccccccccccepoch  9\n",
      "1047/1047 [==============================] - 116s 111ms/step - loss: 3.5772\n",
      "--- Generating with seed:  allado pecho se le ofrece no me desfallezca en este primero\n",
      "aa  a aaa  aa a   a iah  ai  a   aai  a a h a h aha a  i  aaaaaaaaaaaaaaaaaaaaaaaaaaaaaaaaaaaaaaaaaaepoch  10\n",
      "1047/1047 [==============================] - 118s 113ms/step - loss: 3.5611\n",
      "--- Generating with seed:  n a coces y le dejaron tendido en el suelo sin aliento ni s\n",
      "vmvvvvvvvvtlvvonvvmvvvvvvvvvvvvvvvvvvvnvvvvvvvvvvvvvvnlvvvvvvvvvvvvvvvvvvvtvvvvvvvvvvvvvvvvvvvvvvvvvepoch  11\n",
      "1047/1047 [==============================] - 118s 113ms/step - loss: 3.5888\n",
      "--- Generating with seed:  rodela y arremetio al vizcaino con determinacion de quitarl\n",
      " neannyaaaaap cppnppnapppaeaaca a a papnanc aa onaapanapeavpavnavnavnavnavnavnavnavnavpppppavnavnavnepoch  12\n",
      "1047/1047 [==============================] - 118s 113ms/step - loss: 3.5918\n",
      "--- Generating with seed:   confesion que se les pedia y uno de ellos que era un poco \n",
      "oddddd dd a  adrdadddddad aadddddfdfraaddda  arddfaddadaddddddddarfdarfdarfdddarfdarfddddarfddarfdddepoch  13\n",
      "1047/1047 [==============================] - 118s 113ms/step - loss: 3.6080\n",
      "--- Generating with seed:  an sus anteojos de camino y sus quitasoles detras de ellos \n",
      "o oo  o o  o oo  oo oooo o    o  oo  oo o    oo   eooo  oooooooo oo oo   o ooooo oooo oo     ooo o oepoch  14\n",
      "1047/1047 [==============================] - 118s 112ms/step - loss: 3.6075\n",
      "--- Generating with seed:  trecho valame dios y quien sera aquel que buenamente pueda \n",
      "aaratuaaraaraaaaaaara araauaaaaraaaraaaaaaaaaruaauauaaaaauauauauauauauauauauauauauauauauauauauauauauepoch  15\n",
      "1047/1047 [==============================] - 1209s 1s/step - loss: 3.6309\n",
      "--- Generating with seed:  nto como el de creta porque alli por los resquicios o por e\n",
      "nrnnrnnnnnrnvnrnsvvaneraainenrarnnrvnvnovninnnniirrnpvnnnpnnnnnnnnnnnnnnnnnnnnnnnnnnnnnnnnnnnnnnnnnnepoch  16\n",
      "  74/1047 [=>............................] - ETA: 1:48 - loss: 3.9325"
     ]
    },
    {
     "ename": "KeyboardInterrupt",
     "evalue": "",
     "output_type": "error",
     "traceback": [
      "\u001b[1;31m---------------------------------------------------------------------------\u001b[0m",
      "\u001b[1;31mKeyboardInterrupt\u001b[0m                         Traceback (most recent call last)",
      "\u001b[1;32m<ipython-input-48-ec62f2fae816>\u001b[0m in \u001b[0;36m<module>\u001b[1;34m\u001b[0m\n\u001b[0;32m      1\u001b[0m \u001b[1;32mfor\u001b[0m \u001b[0mepoch\u001b[0m \u001b[1;32min\u001b[0m \u001b[0mrange\u001b[0m\u001b[1;33m(\u001b[0m\u001b[1;36m1\u001b[0m\u001b[1;33m,\u001b[0m \u001b[1;36m60\u001b[0m\u001b[1;33m)\u001b[0m\u001b[1;33m:\u001b[0m\u001b[1;33m\u001b[0m\u001b[1;33m\u001b[0m\u001b[0m\n\u001b[0;32m      2\u001b[0m     \u001b[0mprint\u001b[0m\u001b[1;33m(\u001b[0m\u001b[1;34m\"epoch \"\u001b[0m\u001b[1;33m,\u001b[0m \u001b[0mepoch\u001b[0m\u001b[1;33m)\u001b[0m\u001b[1;33m\u001b[0m\u001b[1;33m\u001b[0m\u001b[0m\n\u001b[1;32m----> 3\u001b[1;33m     \u001b[0mmodel\u001b[0m\u001b[1;33m.\u001b[0m\u001b[0mfit\u001b[0m\u001b[1;33m(\u001b[0m\u001b[0mx\u001b[0m\u001b[1;33m,\u001b[0m \u001b[0my\u001b[0m\u001b[1;33m,\u001b[0m \u001b[0mbatch_size\u001b[0m\u001b[1;33m=\u001b[0m\u001b[1;36m128\u001b[0m\u001b[1;33m)\u001b[0m\u001b[1;33m\u001b[0m\u001b[1;33m\u001b[0m\u001b[0m\n\u001b[0m\u001b[0;32m      4\u001b[0m     \u001b[1;31m# Selección de un texto de semilla aleatorio\u001b[0m\u001b[1;33m\u001b[0m\u001b[1;33m\u001b[0m\u001b[1;33m\u001b[0m\u001b[0m\n\u001b[0;32m      5\u001b[0m     \u001b[0mstart_index\u001b[0m \u001b[1;33m=\u001b[0m \u001b[0mrandom\u001b[0m\u001b[1;33m.\u001b[0m\u001b[0mrandint\u001b[0m\u001b[1;33m(\u001b[0m\u001b[1;36m0\u001b[0m\u001b[1;33m,\u001b[0m \u001b[0mlen\u001b[0m\u001b[1;33m(\u001b[0m\u001b[0mx\u001b[0m\u001b[1;33m)\u001b[0m \u001b[1;33m-\u001b[0m \u001b[0mmaxlen\u001b[0m \u001b[1;33m-\u001b[0m \u001b[1;36m1\u001b[0m\u001b[1;33m)\u001b[0m\u001b[1;33m\u001b[0m\u001b[1;33m\u001b[0m\u001b[0m\n",
      "\u001b[1;32m~\\anaconda3\\lib\\site-packages\\keras\\utils\\traceback_utils.py\u001b[0m in \u001b[0;36merror_handler\u001b[1;34m(*args, **kwargs)\u001b[0m\n\u001b[0;32m     62\u001b[0m     \u001b[0mfiltered_tb\u001b[0m \u001b[1;33m=\u001b[0m \u001b[1;32mNone\u001b[0m\u001b[1;33m\u001b[0m\u001b[1;33m\u001b[0m\u001b[0m\n\u001b[0;32m     63\u001b[0m     \u001b[1;32mtry\u001b[0m\u001b[1;33m:\u001b[0m\u001b[1;33m\u001b[0m\u001b[1;33m\u001b[0m\u001b[0m\n\u001b[1;32m---> 64\u001b[1;33m       \u001b[1;32mreturn\u001b[0m \u001b[0mfn\u001b[0m\u001b[1;33m(\u001b[0m\u001b[1;33m*\u001b[0m\u001b[0margs\u001b[0m\u001b[1;33m,\u001b[0m \u001b[1;33m**\u001b[0m\u001b[0mkwargs\u001b[0m\u001b[1;33m)\u001b[0m\u001b[1;33m\u001b[0m\u001b[1;33m\u001b[0m\u001b[0m\n\u001b[0m\u001b[0;32m     65\u001b[0m     \u001b[1;32mexcept\u001b[0m \u001b[0mException\u001b[0m \u001b[1;32mas\u001b[0m \u001b[0me\u001b[0m\u001b[1;33m:\u001b[0m  \u001b[1;31m# pylint: disable=broad-except\u001b[0m\u001b[1;33m\u001b[0m\u001b[1;33m\u001b[0m\u001b[0m\n\u001b[0;32m     66\u001b[0m       \u001b[0mfiltered_tb\u001b[0m \u001b[1;33m=\u001b[0m \u001b[0m_process_traceback_frames\u001b[0m\u001b[1;33m(\u001b[0m\u001b[0me\u001b[0m\u001b[1;33m.\u001b[0m\u001b[0m__traceback__\u001b[0m\u001b[1;33m)\u001b[0m\u001b[1;33m\u001b[0m\u001b[1;33m\u001b[0m\u001b[0m\n",
      "\u001b[1;32m~\\anaconda3\\lib\\site-packages\\keras\\engine\\training.py\u001b[0m in \u001b[0;36mfit\u001b[1;34m(self, x, y, batch_size, epochs, verbose, callbacks, validation_split, validation_data, shuffle, class_weight, sample_weight, initial_epoch, steps_per_epoch, validation_steps, validation_batch_size, validation_freq, max_queue_size, workers, use_multiprocessing)\u001b[0m\n\u001b[0;32m   1407\u001b[0m                 _r=1):\n\u001b[0;32m   1408\u001b[0m               \u001b[0mcallbacks\u001b[0m\u001b[1;33m.\u001b[0m\u001b[0mon_train_batch_begin\u001b[0m\u001b[1;33m(\u001b[0m\u001b[0mstep\u001b[0m\u001b[1;33m)\u001b[0m\u001b[1;33m\u001b[0m\u001b[1;33m\u001b[0m\u001b[0m\n\u001b[1;32m-> 1409\u001b[1;33m               \u001b[0mtmp_logs\u001b[0m \u001b[1;33m=\u001b[0m \u001b[0mself\u001b[0m\u001b[1;33m.\u001b[0m\u001b[0mtrain_function\u001b[0m\u001b[1;33m(\u001b[0m\u001b[0miterator\u001b[0m\u001b[1;33m)\u001b[0m\u001b[1;33m\u001b[0m\u001b[1;33m\u001b[0m\u001b[0m\n\u001b[0m\u001b[0;32m   1410\u001b[0m               \u001b[1;32mif\u001b[0m \u001b[0mdata_handler\u001b[0m\u001b[1;33m.\u001b[0m\u001b[0mshould_sync\u001b[0m\u001b[1;33m:\u001b[0m\u001b[1;33m\u001b[0m\u001b[1;33m\u001b[0m\u001b[0m\n\u001b[0;32m   1411\u001b[0m                 \u001b[0mcontext\u001b[0m\u001b[1;33m.\u001b[0m\u001b[0masync_wait\u001b[0m\u001b[1;33m(\u001b[0m\u001b[1;33m)\u001b[0m\u001b[1;33m\u001b[0m\u001b[1;33m\u001b[0m\u001b[0m\n",
      "\u001b[1;32m~\\anaconda3\\lib\\site-packages\\tensorflow\\python\\util\\traceback_utils.py\u001b[0m in \u001b[0;36merror_handler\u001b[1;34m(*args, **kwargs)\u001b[0m\n\u001b[0;32m    148\u001b[0m     \u001b[0mfiltered_tb\u001b[0m \u001b[1;33m=\u001b[0m \u001b[1;32mNone\u001b[0m\u001b[1;33m\u001b[0m\u001b[1;33m\u001b[0m\u001b[0m\n\u001b[0;32m    149\u001b[0m     \u001b[1;32mtry\u001b[0m\u001b[1;33m:\u001b[0m\u001b[1;33m\u001b[0m\u001b[1;33m\u001b[0m\u001b[0m\n\u001b[1;32m--> 150\u001b[1;33m       \u001b[1;32mreturn\u001b[0m \u001b[0mfn\u001b[0m\u001b[1;33m(\u001b[0m\u001b[1;33m*\u001b[0m\u001b[0margs\u001b[0m\u001b[1;33m,\u001b[0m \u001b[1;33m**\u001b[0m\u001b[0mkwargs\u001b[0m\u001b[1;33m)\u001b[0m\u001b[1;33m\u001b[0m\u001b[1;33m\u001b[0m\u001b[0m\n\u001b[0m\u001b[0;32m    151\u001b[0m     \u001b[1;32mexcept\u001b[0m \u001b[0mException\u001b[0m \u001b[1;32mas\u001b[0m \u001b[0me\u001b[0m\u001b[1;33m:\u001b[0m\u001b[1;33m\u001b[0m\u001b[1;33m\u001b[0m\u001b[0m\n\u001b[0;32m    152\u001b[0m       \u001b[0mfiltered_tb\u001b[0m \u001b[1;33m=\u001b[0m \u001b[0m_process_traceback_frames\u001b[0m\u001b[1;33m(\u001b[0m\u001b[0me\u001b[0m\u001b[1;33m.\u001b[0m\u001b[0m__traceback__\u001b[0m\u001b[1;33m)\u001b[0m\u001b[1;33m\u001b[0m\u001b[1;33m\u001b[0m\u001b[0m\n",
      "\u001b[1;32m~\\anaconda3\\lib\\site-packages\\tensorflow\\python\\eager\\def_function.py\u001b[0m in \u001b[0;36m__call__\u001b[1;34m(self, *args, **kwds)\u001b[0m\n\u001b[0;32m    913\u001b[0m \u001b[1;33m\u001b[0m\u001b[0m\n\u001b[0;32m    914\u001b[0m       \u001b[1;32mwith\u001b[0m \u001b[0mOptionalXlaContext\u001b[0m\u001b[1;33m(\u001b[0m\u001b[0mself\u001b[0m\u001b[1;33m.\u001b[0m\u001b[0m_jit_compile\u001b[0m\u001b[1;33m)\u001b[0m\u001b[1;33m:\u001b[0m\u001b[1;33m\u001b[0m\u001b[1;33m\u001b[0m\u001b[0m\n\u001b[1;32m--> 915\u001b[1;33m         \u001b[0mresult\u001b[0m \u001b[1;33m=\u001b[0m \u001b[0mself\u001b[0m\u001b[1;33m.\u001b[0m\u001b[0m_call\u001b[0m\u001b[1;33m(\u001b[0m\u001b[1;33m*\u001b[0m\u001b[0margs\u001b[0m\u001b[1;33m,\u001b[0m \u001b[1;33m**\u001b[0m\u001b[0mkwds\u001b[0m\u001b[1;33m)\u001b[0m\u001b[1;33m\u001b[0m\u001b[1;33m\u001b[0m\u001b[0m\n\u001b[0m\u001b[0;32m    916\u001b[0m \u001b[1;33m\u001b[0m\u001b[0m\n\u001b[0;32m    917\u001b[0m       \u001b[0mnew_tracing_count\u001b[0m \u001b[1;33m=\u001b[0m \u001b[0mself\u001b[0m\u001b[1;33m.\u001b[0m\u001b[0mexperimental_get_tracing_count\u001b[0m\u001b[1;33m(\u001b[0m\u001b[1;33m)\u001b[0m\u001b[1;33m\u001b[0m\u001b[1;33m\u001b[0m\u001b[0m\n",
      "\u001b[1;32m~\\anaconda3\\lib\\site-packages\\tensorflow\\python\\eager\\def_function.py\u001b[0m in \u001b[0;36m_call\u001b[1;34m(self, *args, **kwds)\u001b[0m\n\u001b[0;32m    945\u001b[0m       \u001b[1;31m# In this case we have created variables on the first call, so we run the\u001b[0m\u001b[1;33m\u001b[0m\u001b[1;33m\u001b[0m\u001b[1;33m\u001b[0m\u001b[0m\n\u001b[0;32m    946\u001b[0m       \u001b[1;31m# defunned version which is guaranteed to never create variables.\u001b[0m\u001b[1;33m\u001b[0m\u001b[1;33m\u001b[0m\u001b[1;33m\u001b[0m\u001b[0m\n\u001b[1;32m--> 947\u001b[1;33m       \u001b[1;32mreturn\u001b[0m \u001b[0mself\u001b[0m\u001b[1;33m.\u001b[0m\u001b[0m_stateless_fn\u001b[0m\u001b[1;33m(\u001b[0m\u001b[1;33m*\u001b[0m\u001b[0margs\u001b[0m\u001b[1;33m,\u001b[0m \u001b[1;33m**\u001b[0m\u001b[0mkwds\u001b[0m\u001b[1;33m)\u001b[0m  \u001b[1;31m# pylint: disable=not-callable\u001b[0m\u001b[1;33m\u001b[0m\u001b[1;33m\u001b[0m\u001b[0m\n\u001b[0m\u001b[0;32m    948\u001b[0m     \u001b[1;32melif\u001b[0m \u001b[0mself\u001b[0m\u001b[1;33m.\u001b[0m\u001b[0m_stateful_fn\u001b[0m \u001b[1;32mis\u001b[0m \u001b[1;32mnot\u001b[0m \u001b[1;32mNone\u001b[0m\u001b[1;33m:\u001b[0m\u001b[1;33m\u001b[0m\u001b[1;33m\u001b[0m\u001b[0m\n\u001b[0;32m    949\u001b[0m       \u001b[1;31m# Release the lock early so that multiple threads can perform the call\u001b[0m\u001b[1;33m\u001b[0m\u001b[1;33m\u001b[0m\u001b[1;33m\u001b[0m\u001b[0m\n",
      "\u001b[1;32m~\\anaconda3\\lib\\site-packages\\tensorflow\\python\\eager\\function.py\u001b[0m in \u001b[0;36m__call__\u001b[1;34m(self, *args, **kwargs)\u001b[0m\n\u001b[0;32m   2451\u001b[0m       (graph_function,\n\u001b[0;32m   2452\u001b[0m        filtered_flat_args) = self._maybe_define_function(args, kwargs)\n\u001b[1;32m-> 2453\u001b[1;33m     return graph_function._call_flat(\n\u001b[0m\u001b[0;32m   2454\u001b[0m         filtered_flat_args, captured_inputs=graph_function.captured_inputs)  # pylint: disable=protected-access\n\u001b[0;32m   2455\u001b[0m \u001b[1;33m\u001b[0m\u001b[0m\n",
      "\u001b[1;32m~\\anaconda3\\lib\\site-packages\\tensorflow\\python\\eager\\function.py\u001b[0m in \u001b[0;36m_call_flat\u001b[1;34m(self, args, captured_inputs, cancellation_manager)\u001b[0m\n\u001b[0;32m   1858\u001b[0m         and executing_eagerly):\n\u001b[0;32m   1859\u001b[0m       \u001b[1;31m# No tape is watching; skip to running the function.\u001b[0m\u001b[1;33m\u001b[0m\u001b[1;33m\u001b[0m\u001b[1;33m\u001b[0m\u001b[0m\n\u001b[1;32m-> 1860\u001b[1;33m       return self._build_call_outputs(self._inference_function.call(\n\u001b[0m\u001b[0;32m   1861\u001b[0m           ctx, args, cancellation_manager=cancellation_manager))\n\u001b[0;32m   1862\u001b[0m     forward_backward = self._select_forward_and_backward_functions(\n",
      "\u001b[1;32m~\\anaconda3\\lib\\site-packages\\tensorflow\\python\\eager\\function.py\u001b[0m in \u001b[0;36mcall\u001b[1;34m(self, ctx, args, cancellation_manager)\u001b[0m\n\u001b[0;32m    495\u001b[0m       \u001b[1;32mwith\u001b[0m \u001b[0m_InterpolateFunctionError\u001b[0m\u001b[1;33m(\u001b[0m\u001b[0mself\u001b[0m\u001b[1;33m)\u001b[0m\u001b[1;33m:\u001b[0m\u001b[1;33m\u001b[0m\u001b[1;33m\u001b[0m\u001b[0m\n\u001b[0;32m    496\u001b[0m         \u001b[1;32mif\u001b[0m \u001b[0mcancellation_manager\u001b[0m \u001b[1;32mis\u001b[0m \u001b[1;32mNone\u001b[0m\u001b[1;33m:\u001b[0m\u001b[1;33m\u001b[0m\u001b[1;33m\u001b[0m\u001b[0m\n\u001b[1;32m--> 497\u001b[1;33m           outputs = execute.execute(\n\u001b[0m\u001b[0;32m    498\u001b[0m               \u001b[0mstr\u001b[0m\u001b[1;33m(\u001b[0m\u001b[0mself\u001b[0m\u001b[1;33m.\u001b[0m\u001b[0msignature\u001b[0m\u001b[1;33m.\u001b[0m\u001b[0mname\u001b[0m\u001b[1;33m)\u001b[0m\u001b[1;33m,\u001b[0m\u001b[1;33m\u001b[0m\u001b[1;33m\u001b[0m\u001b[0m\n\u001b[0;32m    499\u001b[0m               \u001b[0mnum_outputs\u001b[0m\u001b[1;33m=\u001b[0m\u001b[0mself\u001b[0m\u001b[1;33m.\u001b[0m\u001b[0m_num_outputs\u001b[0m\u001b[1;33m,\u001b[0m\u001b[1;33m\u001b[0m\u001b[1;33m\u001b[0m\u001b[0m\n",
      "\u001b[1;32m~\\anaconda3\\lib\\site-packages\\tensorflow\\python\\eager\\execute.py\u001b[0m in \u001b[0;36mquick_execute\u001b[1;34m(op_name, num_outputs, inputs, attrs, ctx, name)\u001b[0m\n\u001b[0;32m     52\u001b[0m   \u001b[1;32mtry\u001b[0m\u001b[1;33m:\u001b[0m\u001b[1;33m\u001b[0m\u001b[1;33m\u001b[0m\u001b[0m\n\u001b[0;32m     53\u001b[0m     \u001b[0mctx\u001b[0m\u001b[1;33m.\u001b[0m\u001b[0mensure_initialized\u001b[0m\u001b[1;33m(\u001b[0m\u001b[1;33m)\u001b[0m\u001b[1;33m\u001b[0m\u001b[1;33m\u001b[0m\u001b[0m\n\u001b[1;32m---> 54\u001b[1;33m     tensors = pywrap_tfe.TFE_Py_Execute(ctx._handle, device_name, op_name,\n\u001b[0m\u001b[0;32m     55\u001b[0m                                         inputs, attrs, num_outputs)\n\u001b[0;32m     56\u001b[0m   \u001b[1;32mexcept\u001b[0m \u001b[0mcore\u001b[0m\u001b[1;33m.\u001b[0m\u001b[0m_NotOkStatusException\u001b[0m \u001b[1;32mas\u001b[0m \u001b[0me\u001b[0m\u001b[1;33m:\u001b[0m\u001b[1;33m\u001b[0m\u001b[1;33m\u001b[0m\u001b[0m\n",
      "\u001b[1;31mKeyboardInterrupt\u001b[0m: "
     ]
    }
   ],
   "source": [
    "for epoch in range(1, 60):\n",
    "    print(\"epoch \", epoch)\n",
    "    model.fit(x, y, batch_size=128)\n",
    "    # Selección de un texto de semilla aleatorio\n",
    "    start_index = random.randint(0, len(x) - maxlen - 1)\n",
    "    seed_text = text[start_index:start_index + maxlen - 1]\n",
    "    print(\"--- Generating with seed: \" , seed_text)\n",
    "    generated_text = seed_text\n",
    "    for i in range(100):\n",
    "        sampled = np.zeros((1, maxlen, len(chars)), dtype=int)\n",
    "        for i in range(len(generated_text)):\n",
    "            charIndex = char_indices[generated_text[i]]\n",
    "            sampled[0,i,charIndex] = 1        \n",
    "        preds = model.predict(sampled,verbose = 0)        \n",
    "        next_index = sample_next_char(preds[0])\n",
    "        next_char = chars[next_index]\n",
    "        generated_text = generated_text[2:] + next_char\n",
    "        #print(generated_text)\n",
    "        sys.stdout.write(next_char)"
   ]
  }
 ],
 "metadata": {
  "kernelspec": {
   "display_name": "Python 3",
   "language": "python",
   "name": "python3"
  },
  "language_info": {
   "codemirror_mode": {
    "name": "ipython",
    "version": 3
   },
   "file_extension": ".py",
   "mimetype": "text/x-python",
   "name": "python",
   "nbconvert_exporter": "python",
   "pygments_lexer": "ipython3",
   "version": "3.8.8"
  }
 },
 "nbformat": 4,
 "nbformat_minor": 5
}
