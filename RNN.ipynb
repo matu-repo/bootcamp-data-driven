{
 "cells": [
  {
   "cell_type": "code",
   "execution_count": 1,
   "id": "b14d32bb",
   "metadata": {},
   "outputs": [],
   "source": [
    "# Carga de la red LSTM pequeña para generar texto\n",
    "import sys\n",
    "import numpy\n",
    "import tensorflow as tf"
   ]
  },
  {
   "cell_type": "code",
   "execution_count": 2,
   "id": "de023a2e",
   "metadata": {},
   "outputs": [],
   "source": [
    "# load file\n",
    "filename = \"discurso.txt\"\n",
    "text = open(filename, encoding=\"utf-8\").read()\n"
   ]
  },
  {
   "cell_type": "code",
   "execution_count": 16,
   "id": "af27b710",
   "metadata": {},
   "outputs": [],
   "source": [
    "# clean text\n",
    "text.replace('\\n', '')\n",
    "text = text.lower()"
   ]
  },
  {
   "cell_type": "code",
   "execution_count": 17,
   "id": "b8d500b7",
   "metadata": {},
   "outputs": [],
   "source": [
    "# output values\n",
    "vocab = sorted(set(text))\n",
    "# Dict (ids) chars .get_vocabulary(). Get char by index\n",
    "ids_from_chars = tf.keras.layers.StringLookup(vocabulary=list(vocab), mask_token=None)"
   ]
  },
  {
   "cell_type": "code",
   "execution_count": 18,
   "id": "5bcb653c",
   "metadata": {},
   "outputs": [
    {
     "data": {
      "text/plain": [
       "<tf.Tensor: shape=(25328,), dtype=int64, numpy=array([23, 37, 38, ..., 27, 19, 37], dtype=int64)>"
      ]
     },
     "execution_count": 18,
     "metadata": {},
     "output_type": "execute_result"
    }
   ],
   "source": [
    "# convert all text to id, is necessary used numbers\n",
    "all_ids = ids_from_chars(tf.strings.unicode_split(text, 'UTF-8'))\n",
    "all_ids"
   ]
  },
  {
   "cell_type": "code",
   "execution_count": 19,
   "id": "1cdafea3",
   "metadata": {},
   "outputs": [
    {
     "data": {
      "text/plain": [
       "<keras.layers.preprocessing.string_lookup.StringLookup at 0x27230c08520>"
      ]
     },
     "execution_count": 19,
     "metadata": {},
     "output_type": "execute_result"
    }
   ],
   "source": [
    "# Dict (chars) ids\n",
    "chars_from_ids = tf.keras.layers.StringLookup(vocabulary=ids_from_chars.get_vocabulary(), invert=True, mask_token=None)\n",
    "chars_from_ids"
   ]
  },
  {
   "cell_type": "code",
   "execution_count": 20,
   "id": "78802565",
   "metadata": {},
   "outputs": [
    {
     "name": "stdout",
     "output_type": "stream",
     "text": [
      "e\n",
      "s\n",
      "t\n",
      "a\n",
      "m\n",
      "o\n",
      "s\n",
      " \n",
      "c\n",
      "e\n"
     ]
    }
   ],
   "source": [
    "ids_dataset = tf.data.Dataset.from_tensor_slices(all_ids)\n",
    "for ids in ids_dataset.take(10):\n",
    "    print(chars_from_ids(ids).numpy().decode('utf-8'))"
   ]
  },
  {
   "cell_type": "code",
   "execution_count": 24,
   "id": "ff0015fc",
   "metadata": {},
   "outputs": [
    {
     "data": {
      "text/plain": [
       "<TensorSliceDataset element_spec=TensorSpec(shape=(), dtype=tf.int64, name=None)>"
      ]
     },
     "execution_count": 24,
     "metadata": {},
     "output_type": "execute_result"
    }
   ],
   "source": [
    "ids_dataset"
   ]
  },
  {
   "cell_type": "code",
   "execution_count": 25,
   "id": "31bb7c3d",
   "metadata": {},
   "outputs": [],
   "source": [
    "# print sequence\n",
    "def printSequence(sequences):\n",
    "    for seq in sequences:\n",
    "        print(chars_from_ids(seq))\n",
    "    for seq in sequences:\n",
    "        print(text_from_ids(seq).numpy())\n",
    "\n",
    "# get char from ids\n",
    "def text_from_ids(ids):\n",
    "  return tf.strings.reduce_join(chars_from_ids(ids), axis=-1)"
   ]
  },
  {
   "cell_type": "code",
   "execution_count": 26,
   "id": "98096dc4",
   "metadata": {},
   "outputs": [
    {
     "name": "stdout",
     "output_type": "stream",
     "text": [
      "tf.Tensor(\n",
      "[b'e' b's' b't' b'a' b'm' b'o' b's' b' ' b'c' b'e' b'l' b'e' b'b' b'r'\n",
      " b'a' b'n' b'd' b'o' b' ' b'e' b's' b't' b'e' b' ' b'e' b'v' b'e' b'n'\n",
      " b't' b'o' b' ' b'd' b'e' b' ' b'n' b'u' b'e' b'v' b'o' b' ' b'e' b'n'\n",
      " b' ' b'n' b'u' b'e' b's' b't' b'r' b'a' b' ' b's' b'e' b'd' b'e' b' '\n",
      " b'c' b'o' b'r' b'p' b'o' b'r' b'a' b't' b'i' b'v' b'a' b' ' b'd' b'e'\n",
      " b' ' b'b' b'o' b'a' b'd' b'i' b'l' b'l' b'a' b' ' b'p' b'a' b'r' b'a'\n",
      " b' ' b'm' b'i' b'n' b'i' b'm' b'i' b'z' b'a' b'r' b' ' b'l' b'o' b's'\n",
      " b' ' b'r' b'i'], shape=(101,), dtype=string)\n",
      "tf.Tensor(\n",
      "[b'e' b's' b'g' b'o' b's' b' ' b's' b'a' b'n' b'i' b't' b'a' b'r' b'i'\n",
      " b'o' b's' b'\\n' b'q' b'u' b'e' b' ' b'p' b'o' b'd' b'r' b'\\xc3\\xad' b'a'\n",
      " b' ' b'c' b'o' b'n' b'l' b'l' b'e' b'v' b'a' b'r' b' ' b'e' b'l' b' '\n",
      " b'd' b'e' b's' b'p' b'l' b'a' b'z' b'a' b'm' b'i' b'e' b'n' b't' b'o'\n",
      " b' ' b'd' b'e' b' ' b'n' b'u' b'e' b's' b't' b'r' b'o' b's' b' ' b'e'\n",
      " b'q' b'u' b'i' b'p' b'o' b's' b' ' b'y' b' ' b'a' b'c' b'c' b'i' b'o'\n",
      " b'n' b'i' b's' b't' b'a' b's' b' ' b'a' b'\\n' b'c' b'a' b'n' b't' b'a'\n",
      " b'b' b'r' b'i' b'a'], shape=(101,), dtype=string)\n",
      "b'estamos celebrando este evento de nuevo en nuestra sede corporativa de boadilla para minimizar los ri'\n",
      "b'esgos sanitarios\\nque podr\\xc3\\xada conllevar el desplazamiento de nuestros equipos y accionistas a\\ncantabria'\n"
     ]
    }
   ],
   "source": [
    "# Sequences has tensors with 100 caracteres\n",
    "seq_length = 100\n",
    "sequences = ids_dataset.batch(seq_length+1, drop_remainder=True)\n",
    "\n",
    "printSequence(sequences.take(2))"
   ]
  },
  {
   "cell_type": "code",
   "execution_count": 27,
   "id": "bc25f757",
   "metadata": {},
   "outputs": [],
   "source": [
    "# Get input (x) and target (y)\n",
    "def split_input_target(sequence):\n",
    "    input_text = sequence[:-1]\n",
    "    target_text = sequence[1:]\n",
    "    return input_text, target_text"
   ]
  },
  {
   "cell_type": "code",
   "execution_count": 28,
   "id": "6e10cc08",
   "metadata": {},
   "outputs": [
    {
     "data": {
      "text/plain": [
       "<MapDataset element_spec=(TensorSpec(shape=(100,), dtype=tf.int64, name=None), TensorSpec(shape=(100,), dtype=tf.int64, name=None))>"
      ]
     },
     "execution_count": 28,
     "metadata": {},
     "output_type": "execute_result"
    }
   ],
   "source": [
    "# dataset ready for model\n",
    "dataset = sequences.map(split_input_target)\n",
    "dataset"
   ]
  },
  {
   "cell_type": "code",
   "execution_count": 29,
   "id": "98c48b69",
   "metadata": {
    "scrolled": true
   },
   "outputs": [
    {
     "name": "stdout",
     "output_type": "stream",
     "text": [
      "Input : b'estamos celebrando este evento de nuevo en nuestra sede corporativa de boadilla para minimizar los r'\n",
      "Input : (100,)\n",
      "Target: b'stamos celebrando este evento de nuevo en nuestra sede corporativa de boadilla para minimizar los ri'\n"
     ]
    }
   ],
   "source": [
    "for input_example, target_example in dataset.take(1):\n",
    "    \n",
    "    print(\"Input :\", text_from_ids(input_example).numpy())    \n",
    "    print(\"Input :\", input_example.numpy().shape)\n",
    "    print(\"Target:\", text_from_ids(target_example).numpy())"
   ]
  },
  {
   "cell_type": "code",
   "execution_count": 13,
   "id": "b4a0ab08",
   "metadata": {},
   "outputs": [
    {
     "data": {
      "text/plain": [
       "<PrefetchDataset element_spec=(TensorSpec(shape=(64, 100), dtype=tf.int64, name=None), TensorSpec(shape=(64, 100), dtype=tf.int64, name=None))>"
      ]
     },
     "execution_count": 13,
     "metadata": {},
     "output_type": "execute_result"
    }
   ],
   "source": [
    "# Batch size\n",
    "BATCH_SIZE = 64\n",
    "\n",
    "# Buffer size to shuffle the dataset\n",
    "# (TF data is designed to work with possibly infinite sequences,\n",
    "# so it doesn't attempt to shuffle the entire sequence in memory. Instead,\n",
    "# it maintains a buffer in which it shuffles elements).\n",
    "BUFFER_SIZE = 10000\n",
    "\n",
    "dataset = (\n",
    "    dataset\n",
    "    .shuffle(BUFFER_SIZE)\n",
    "    .batch(BATCH_SIZE, drop_remainder=True)\n",
    "    .prefetch(tf.data.experimental.AUTOTUNE))\n",
    "\n",
    "dataset"
   ]
  },
  {
   "cell_type": "code",
   "execution_count": 14,
   "id": "4c3d6642",
   "metadata": {},
   "outputs": [
    {
     "name": "stdout",
     "output_type": "stream",
     "text": [
      "(64, 100) # (batch_size, sequence_length, vocab_size)\n",
      "(64, 100)\n"
     ]
    }
   ],
   "source": [
    "for input_example_batch, target_example_batch in dataset.take(1):\n",
    "    print(input_example_batch.shape, \"# (batch_size, sequence_length, vocab_size)\")\n",
    "    print(target_example_batch.shape)"
   ]
  },
  {
   "cell_type": "code",
   "execution_count": 15,
   "id": "99681a6b",
   "metadata": {},
   "outputs": [
    {
     "ename": "ValueError",
     "evalue": "Input 0 of layer \"lstm\" is incompatible with the layer: expected ndim=3, found ndim=4. Full shape received: (None, 64, 100, 1)",
     "output_type": "error",
     "traceback": [
      "\u001b[1;31m---------------------------------------------------------------------------\u001b[0m",
      "\u001b[1;31mValueError\u001b[0m                                Traceback (most recent call last)",
      "\u001b[1;32m<ipython-input-15-d28a83ea5621>\u001b[0m in \u001b[0;36m<module>\u001b[1;34m\u001b[0m\n\u001b[0;32m      2\u001b[0m \u001b[0mmodel\u001b[0m \u001b[1;33m=\u001b[0m \u001b[0mtf\u001b[0m\u001b[1;33m.\u001b[0m\u001b[0mkeras\u001b[0m\u001b[1;33m.\u001b[0m\u001b[0mSequential\u001b[0m\u001b[1;33m(\u001b[0m\u001b[1;33m)\u001b[0m\u001b[1;33m\u001b[0m\u001b[1;33m\u001b[0m\u001b[0m\n\u001b[0;32m      3\u001b[0m \u001b[1;31m#model.add(tf.keras.layers.Embedding(len(vocab), 100, input_length=100))\u001b[0m\u001b[1;33m\u001b[0m\u001b[1;33m\u001b[0m\u001b[1;33m\u001b[0m\u001b[0m\n\u001b[1;32m----> 4\u001b[1;33m \u001b[0mmodel\u001b[0m\u001b[1;33m.\u001b[0m\u001b[0madd\u001b[0m\u001b[1;33m(\u001b[0m\u001b[0mtf\u001b[0m\u001b[1;33m.\u001b[0m\u001b[0mkeras\u001b[0m\u001b[1;33m.\u001b[0m\u001b[0mlayers\u001b[0m\u001b[1;33m.\u001b[0m\u001b[0mLSTM\u001b[0m\u001b[1;33m(\u001b[0m\u001b[1;36m254\u001b[0m\u001b[1;33m,\u001b[0m\u001b[0minput_shape\u001b[0m\u001b[1;33m=\u001b[0m\u001b[1;33m[\u001b[0m\u001b[1;36m64\u001b[0m\u001b[1;33m,\u001b[0m\u001b[1;36m100\u001b[0m\u001b[1;33m,\u001b[0m \u001b[1;36m1\u001b[0m\u001b[1;33m]\u001b[0m\u001b[1;33m)\u001b[0m\u001b[1;33m)\u001b[0m\u001b[1;33m\u001b[0m\u001b[1;33m\u001b[0m\u001b[0m\n\u001b[0m\u001b[0;32m      5\u001b[0m \u001b[0mmodel\u001b[0m\u001b[1;33m.\u001b[0m\u001b[0madd\u001b[0m\u001b[1;33m(\u001b[0m\u001b[0mtf\u001b[0m\u001b[1;33m.\u001b[0m\u001b[0mkeras\u001b[0m\u001b[1;33m.\u001b[0m\u001b[0mlayers\u001b[0m\u001b[1;33m.\u001b[0m\u001b[0mDropout\u001b[0m\u001b[1;33m(\u001b[0m\u001b[1;36m0.2\u001b[0m\u001b[1;33m)\u001b[0m\u001b[1;33m)\u001b[0m\u001b[1;33m\u001b[0m\u001b[1;33m\u001b[0m\u001b[0m\n\u001b[0;32m      6\u001b[0m \u001b[0mmodel\u001b[0m\u001b[1;33m.\u001b[0m\u001b[0madd\u001b[0m\u001b[1;33m(\u001b[0m\u001b[0mtf\u001b[0m\u001b[1;33m.\u001b[0m\u001b[0mkeras\u001b[0m\u001b[1;33m.\u001b[0m\u001b[0mlayers\u001b[0m\u001b[1;33m.\u001b[0m\u001b[0mDense\u001b[0m\u001b[1;33m(\u001b[0m\u001b[0mlen\u001b[0m\u001b[1;33m(\u001b[0m\u001b[0mvocab\u001b[0m\u001b[1;33m)\u001b[0m\u001b[1;33m,\u001b[0m \u001b[0mactivation\u001b[0m\u001b[1;33m=\u001b[0m\u001b[1;34m'softmax'\u001b[0m\u001b[1;33m)\u001b[0m\u001b[1;33m)\u001b[0m\u001b[1;33m\u001b[0m\u001b[1;33m\u001b[0m\u001b[0m\n",
      "\u001b[1;32m~\\anaconda3\\lib\\site-packages\\tensorflow\\python\\training\\tracking\\base.py\u001b[0m in \u001b[0;36m_method_wrapper\u001b[1;34m(self, *args, **kwargs)\u001b[0m\n\u001b[0;32m    585\u001b[0m     \u001b[0mself\u001b[0m\u001b[1;33m.\u001b[0m\u001b[0m_self_setattr_tracking\u001b[0m \u001b[1;33m=\u001b[0m \u001b[1;32mFalse\u001b[0m  \u001b[1;31m# pylint: disable=protected-access\u001b[0m\u001b[1;33m\u001b[0m\u001b[1;33m\u001b[0m\u001b[0m\n\u001b[0;32m    586\u001b[0m     \u001b[1;32mtry\u001b[0m\u001b[1;33m:\u001b[0m\u001b[1;33m\u001b[0m\u001b[1;33m\u001b[0m\u001b[0m\n\u001b[1;32m--> 587\u001b[1;33m       \u001b[0mresult\u001b[0m \u001b[1;33m=\u001b[0m \u001b[0mmethod\u001b[0m\u001b[1;33m(\u001b[0m\u001b[0mself\u001b[0m\u001b[1;33m,\u001b[0m \u001b[1;33m*\u001b[0m\u001b[0margs\u001b[0m\u001b[1;33m,\u001b[0m \u001b[1;33m**\u001b[0m\u001b[0mkwargs\u001b[0m\u001b[1;33m)\u001b[0m\u001b[1;33m\u001b[0m\u001b[1;33m\u001b[0m\u001b[0m\n\u001b[0m\u001b[0;32m    588\u001b[0m     \u001b[1;32mfinally\u001b[0m\u001b[1;33m:\u001b[0m\u001b[1;33m\u001b[0m\u001b[1;33m\u001b[0m\u001b[0m\n\u001b[0;32m    589\u001b[0m       \u001b[0mself\u001b[0m\u001b[1;33m.\u001b[0m\u001b[0m_self_setattr_tracking\u001b[0m \u001b[1;33m=\u001b[0m \u001b[0mprevious_value\u001b[0m  \u001b[1;31m# pylint: disable=protected-access\u001b[0m\u001b[1;33m\u001b[0m\u001b[1;33m\u001b[0m\u001b[0m\n",
      "\u001b[1;32m~\\anaconda3\\lib\\site-packages\\keras\\utils\\traceback_utils.py\u001b[0m in \u001b[0;36merror_handler\u001b[1;34m(*args, **kwargs)\u001b[0m\n\u001b[0;32m     65\u001b[0m     \u001b[1;32mexcept\u001b[0m \u001b[0mException\u001b[0m \u001b[1;32mas\u001b[0m \u001b[0me\u001b[0m\u001b[1;33m:\u001b[0m  \u001b[1;31m# pylint: disable=broad-except\u001b[0m\u001b[1;33m\u001b[0m\u001b[1;33m\u001b[0m\u001b[0m\n\u001b[0;32m     66\u001b[0m       \u001b[0mfiltered_tb\u001b[0m \u001b[1;33m=\u001b[0m \u001b[0m_process_traceback_frames\u001b[0m\u001b[1;33m(\u001b[0m\u001b[0me\u001b[0m\u001b[1;33m.\u001b[0m\u001b[0m__traceback__\u001b[0m\u001b[1;33m)\u001b[0m\u001b[1;33m\u001b[0m\u001b[1;33m\u001b[0m\u001b[0m\n\u001b[1;32m---> 67\u001b[1;33m       \u001b[1;32mraise\u001b[0m \u001b[0me\u001b[0m\u001b[1;33m.\u001b[0m\u001b[0mwith_traceback\u001b[0m\u001b[1;33m(\u001b[0m\u001b[0mfiltered_tb\u001b[0m\u001b[1;33m)\u001b[0m \u001b[1;32mfrom\u001b[0m \u001b[1;32mNone\u001b[0m\u001b[1;33m\u001b[0m\u001b[1;33m\u001b[0m\u001b[0m\n\u001b[0m\u001b[0;32m     68\u001b[0m     \u001b[1;32mfinally\u001b[0m\u001b[1;33m:\u001b[0m\u001b[1;33m\u001b[0m\u001b[1;33m\u001b[0m\u001b[0m\n\u001b[0;32m     69\u001b[0m       \u001b[1;32mdel\u001b[0m \u001b[0mfiltered_tb\u001b[0m\u001b[1;33m\u001b[0m\u001b[1;33m\u001b[0m\u001b[0m\n",
      "\u001b[1;32m~\\anaconda3\\lib\\site-packages\\keras\\engine\\input_spec.py\u001b[0m in \u001b[0;36massert_input_compatibility\u001b[1;34m(input_spec, inputs, layer_name)\u001b[0m\n\u001b[0;32m    212\u001b[0m       \u001b[0mndim\u001b[0m \u001b[1;33m=\u001b[0m \u001b[0mshape\u001b[0m\u001b[1;33m.\u001b[0m\u001b[0mrank\u001b[0m\u001b[1;33m\u001b[0m\u001b[1;33m\u001b[0m\u001b[0m\n\u001b[0;32m    213\u001b[0m       \u001b[1;32mif\u001b[0m \u001b[0mndim\u001b[0m \u001b[1;33m!=\u001b[0m \u001b[0mspec\u001b[0m\u001b[1;33m.\u001b[0m\u001b[0mndim\u001b[0m\u001b[1;33m:\u001b[0m\u001b[1;33m\u001b[0m\u001b[1;33m\u001b[0m\u001b[0m\n\u001b[1;32m--> 214\u001b[1;33m         raise ValueError(f'Input {input_index} of layer \"{layer_name}\" '\n\u001b[0m\u001b[0;32m    215\u001b[0m                          \u001b[1;34m'is incompatible with the layer: '\u001b[0m\u001b[1;33m\u001b[0m\u001b[1;33m\u001b[0m\u001b[0m\n\u001b[0;32m    216\u001b[0m                          \u001b[1;34mf'expected ndim={spec.ndim}, found ndim={ndim}. '\u001b[0m\u001b[1;33m\u001b[0m\u001b[1;33m\u001b[0m\u001b[0m\n",
      "\u001b[1;31mValueError\u001b[0m: Input 0 of layer \"lstm\" is incompatible with the layer: expected ndim=3, found ndim=4. Full shape received: (None, 64, 100, 1)"
     ]
    }
   ],
   "source": [
    "# define la LSTM model\n",
    "model = tf.keras.Sequential()\n",
    "#model.add(tf.keras.layers.Embedding(len(vocab), 100, input_length=100))\n",
    "model.add(tf.keras.layers.LSTM(254,input_shape=[64,100, 1]))\n",
    "model.add(tf.keras.layers.Dropout(0.2))\n",
    "model.add(tf.keras.layers.Dense(len(vocab), activation='softmax'))"
   ]
  },
  {
   "cell_type": "code",
   "execution_count": 84,
   "id": "7e50669b",
   "metadata": {},
   "outputs": [
    {
     "name": "stdout",
     "output_type": "stream",
     "text": [
      "Model: \"sequential_14\"\n",
      "_________________________________________________________________\n",
      " Layer (type)                Output Shape              Param #   \n",
      "=================================================================\n",
      " lstm_12 (LSTM)              (None, 254)               263144    \n",
      "                                                                 \n",
      " dropout_11 (Dropout)        (None, 254)               0         \n",
      "                                                                 \n",
      " dense_11 (Dense)            (None, 50)                12750     \n",
      "                                                                 \n",
      "=================================================================\n",
      "Total params: 275,894\n",
      "Trainable params: 275,894\n",
      "Non-trainable params: 0\n",
      "_________________________________________________________________\n"
     ]
    }
   ],
   "source": [
    "# Carga de los pesos de la red\n",
    "opt = tf.keras.optimizers.RMSprop(learning_rate=0.1)\n",
    "model.compile(loss='categorical_crossentropy', optimizer=opt)\n",
    "model.summary()"
   ]
  },
  {
   "cell_type": "code",
   "execution_count": 85,
   "id": "51d71cc5",
   "metadata": {},
   "outputs": [
    {
     "name": "stdout",
     "output_type": "stream",
     "text": [
      "Epoch 1/20\n",
      "WARNING:tensorflow:Model was constructed with shape (None, None, 4) for input KerasTensor(type_spec=TensorSpec(shape=(None, None, 4), dtype=tf.float32, name='lstm_12_input'), name='lstm_12_input', description=\"created by layer 'lstm_12_input'\"), but it was called on an input with incompatible shape (100,).\n"
     ]
    },
    {
     "ename": "ValueError",
     "evalue": "in user code:\n\n    File \"C:\\Users\\Matu\\anaconda3\\lib\\site-packages\\keras\\engine\\training.py\", line 1051, in train_function  *\n        return step_function(self, iterator)\n    File \"C:\\Users\\Matu\\anaconda3\\lib\\site-packages\\keras\\engine\\training.py\", line 1040, in step_function  **\n        outputs = model.distribute_strategy.run(run_step, args=(data,))\n    File \"C:\\Users\\Matu\\anaconda3\\lib\\site-packages\\keras\\engine\\training.py\", line 1030, in run_step  **\n        outputs = model.train_step(data)\n    File \"C:\\Users\\Matu\\anaconda3\\lib\\site-packages\\keras\\engine\\training.py\", line 889, in train_step\n        y_pred = self(x, training=True)\n    File \"C:\\Users\\Matu\\anaconda3\\lib\\site-packages\\keras\\utils\\traceback_utils.py\", line 67, in error_handler\n        raise e.with_traceback(filtered_tb) from None\n    File \"C:\\Users\\Matu\\anaconda3\\lib\\site-packages\\keras\\engine\\input_spec.py\", line 214, in assert_input_compatibility\n        raise ValueError(f'Input {input_index} of layer \"{layer_name}\" '\n\n    ValueError: Exception encountered when calling layer \"sequential_14\" (type Sequential).\n    \n    Input 0 of layer \"lstm_12\" is incompatible with the layer: expected ndim=3, found ndim=1. Full shape received: (100,)\n    \n    Call arguments received by layer \"sequential_14\" (type Sequential):\n      • inputs=tf.Tensor(shape=(100,), dtype=int64)\n      • training=True\n      • mask=None\n",
     "output_type": "error",
     "traceback": [
      "\u001b[1;31m---------------------------------------------------------------------------\u001b[0m",
      "\u001b[1;31mValueError\u001b[0m                                Traceback (most recent call last)",
      "\u001b[1;32m<ipython-input-85-46ce66b43712>\u001b[0m in \u001b[0;36m<module>\u001b[1;34m\u001b[0m\n\u001b[1;32m----> 1\u001b[1;33m \u001b[0mmodel\u001b[0m\u001b[1;33m.\u001b[0m\u001b[0mfit\u001b[0m\u001b[1;33m(\u001b[0m\u001b[0mdataset\u001b[0m\u001b[1;33m,\u001b[0m \u001b[0mepochs\u001b[0m\u001b[1;33m=\u001b[0m\u001b[1;36m20\u001b[0m\u001b[1;33m,\u001b[0m \u001b[0mbatch_size\u001b[0m\u001b[1;33m=\u001b[0m\u001b[0mBATCH_SIZE\u001b[0m\u001b[1;33m)\u001b[0m\u001b[1;33m\u001b[0m\u001b[1;33m\u001b[0m\u001b[0m\n\u001b[0m",
      "\u001b[1;32m~\\anaconda3\\lib\\site-packages\\keras\\utils\\traceback_utils.py\u001b[0m in \u001b[0;36merror_handler\u001b[1;34m(*args, **kwargs)\u001b[0m\n\u001b[0;32m     65\u001b[0m     \u001b[1;32mexcept\u001b[0m \u001b[0mException\u001b[0m \u001b[1;32mas\u001b[0m \u001b[0me\u001b[0m\u001b[1;33m:\u001b[0m  \u001b[1;31m# pylint: disable=broad-except\u001b[0m\u001b[1;33m\u001b[0m\u001b[1;33m\u001b[0m\u001b[0m\n\u001b[0;32m     66\u001b[0m       \u001b[0mfiltered_tb\u001b[0m \u001b[1;33m=\u001b[0m \u001b[0m_process_traceback_frames\u001b[0m\u001b[1;33m(\u001b[0m\u001b[0me\u001b[0m\u001b[1;33m.\u001b[0m\u001b[0m__traceback__\u001b[0m\u001b[1;33m)\u001b[0m\u001b[1;33m\u001b[0m\u001b[1;33m\u001b[0m\u001b[0m\n\u001b[1;32m---> 67\u001b[1;33m       \u001b[1;32mraise\u001b[0m \u001b[0me\u001b[0m\u001b[1;33m.\u001b[0m\u001b[0mwith_traceback\u001b[0m\u001b[1;33m(\u001b[0m\u001b[0mfiltered_tb\u001b[0m\u001b[1;33m)\u001b[0m \u001b[1;32mfrom\u001b[0m \u001b[1;32mNone\u001b[0m\u001b[1;33m\u001b[0m\u001b[1;33m\u001b[0m\u001b[0m\n\u001b[0m\u001b[0;32m     68\u001b[0m     \u001b[1;32mfinally\u001b[0m\u001b[1;33m:\u001b[0m\u001b[1;33m\u001b[0m\u001b[1;33m\u001b[0m\u001b[0m\n\u001b[0;32m     69\u001b[0m       \u001b[1;32mdel\u001b[0m \u001b[0mfiltered_tb\u001b[0m\u001b[1;33m\u001b[0m\u001b[1;33m\u001b[0m\u001b[0m\n",
      "\u001b[1;32m~\\anaconda3\\lib\\site-packages\\keras\\engine\\training.py\u001b[0m in \u001b[0;36mtf__train_function\u001b[1;34m(iterator)\u001b[0m\n\u001b[0;32m     13\u001b[0m                 \u001b[1;32mtry\u001b[0m\u001b[1;33m:\u001b[0m\u001b[1;33m\u001b[0m\u001b[1;33m\u001b[0m\u001b[0m\n\u001b[0;32m     14\u001b[0m                     \u001b[0mdo_return\u001b[0m \u001b[1;33m=\u001b[0m \u001b[1;32mTrue\u001b[0m\u001b[1;33m\u001b[0m\u001b[1;33m\u001b[0m\u001b[0m\n\u001b[1;32m---> 15\u001b[1;33m                     \u001b[0mretval_\u001b[0m \u001b[1;33m=\u001b[0m \u001b[0mag__\u001b[0m\u001b[1;33m.\u001b[0m\u001b[0mconverted_call\u001b[0m\u001b[1;33m(\u001b[0m\u001b[0mag__\u001b[0m\u001b[1;33m.\u001b[0m\u001b[0mld\u001b[0m\u001b[1;33m(\u001b[0m\u001b[0mstep_function\u001b[0m\u001b[1;33m)\u001b[0m\u001b[1;33m,\u001b[0m \u001b[1;33m(\u001b[0m\u001b[0mag__\u001b[0m\u001b[1;33m.\u001b[0m\u001b[0mld\u001b[0m\u001b[1;33m(\u001b[0m\u001b[0mself\u001b[0m\u001b[1;33m)\u001b[0m\u001b[1;33m,\u001b[0m \u001b[0mag__\u001b[0m\u001b[1;33m.\u001b[0m\u001b[0mld\u001b[0m\u001b[1;33m(\u001b[0m\u001b[0miterator\u001b[0m\u001b[1;33m)\u001b[0m\u001b[1;33m)\u001b[0m\u001b[1;33m,\u001b[0m \u001b[1;32mNone\u001b[0m\u001b[1;33m,\u001b[0m \u001b[0mfscope\u001b[0m\u001b[1;33m)\u001b[0m\u001b[1;33m\u001b[0m\u001b[1;33m\u001b[0m\u001b[0m\n\u001b[0m\u001b[0;32m     16\u001b[0m                 \u001b[1;32mexcept\u001b[0m\u001b[1;33m:\u001b[0m\u001b[1;33m\u001b[0m\u001b[1;33m\u001b[0m\u001b[0m\n\u001b[0;32m     17\u001b[0m                     \u001b[0mdo_return\u001b[0m \u001b[1;33m=\u001b[0m \u001b[1;32mFalse\u001b[0m\u001b[1;33m\u001b[0m\u001b[1;33m\u001b[0m\u001b[0m\n",
      "\u001b[1;31mValueError\u001b[0m: in user code:\n\n    File \"C:\\Users\\Matu\\anaconda3\\lib\\site-packages\\keras\\engine\\training.py\", line 1051, in train_function  *\n        return step_function(self, iterator)\n    File \"C:\\Users\\Matu\\anaconda3\\lib\\site-packages\\keras\\engine\\training.py\", line 1040, in step_function  **\n        outputs = model.distribute_strategy.run(run_step, args=(data,))\n    File \"C:\\Users\\Matu\\anaconda3\\lib\\site-packages\\keras\\engine\\training.py\", line 1030, in run_step  **\n        outputs = model.train_step(data)\n    File \"C:\\Users\\Matu\\anaconda3\\lib\\site-packages\\keras\\engine\\training.py\", line 889, in train_step\n        y_pred = self(x, training=True)\n    File \"C:\\Users\\Matu\\anaconda3\\lib\\site-packages\\keras\\utils\\traceback_utils.py\", line 67, in error_handler\n        raise e.with_traceback(filtered_tb) from None\n    File \"C:\\Users\\Matu\\anaconda3\\lib\\site-packages\\keras\\engine\\input_spec.py\", line 214, in assert_input_compatibility\n        raise ValueError(f'Input {input_index} of layer \"{layer_name}\" '\n\n    ValueError: Exception encountered when calling layer \"sequential_14\" (type Sequential).\n    \n    Input 0 of layer \"lstm_12\" is incompatible with the layer: expected ndim=3, found ndim=1. Full shape received: (100,)\n    \n    Call arguments received by layer \"sequential_14\" (type Sequential):\n      • inputs=tf.Tensor(shape=(100,), dtype=int64)\n      • training=True\n      • mask=None\n"
     ]
    }
   ],
   "source": [
    "model.fit(dataset, epochs=20, batch_size=BATCH_SIZE)"
   ]
  },
  {
   "cell_type": "code",
   "execution_count": 1,
   "id": "761f4a2a",
   "metadata": {},
   "outputs": [],
   "source": [
    "# Carga de la red LSTM pequeña para generar texto\n",
    "import sys\n",
    "import numpy\n",
    "import tensorflow as tf\n",
    "import numpy as np"
   ]
  },
  {
   "cell_type": "code",
   "execution_count": 2,
   "id": "d6e48ddb",
   "metadata": {},
   "outputs": [
    {
     "data": {
      "text/plain": [
       "\"estamos celebrando este evento de nuevo en nuestra sede corporativa de boadilla para minimizar los riesgos sanitarios\\nque podría conllevar el desplazamiento de nuestros equipos y accionistas a\\ncantabria deseamos volver pronto a santander\\ny me gustaría comenzar enviando un mensaje de apoyo al pueblo ucraniano que está sufriendo esta terrible catástrofe\\nhumanitaria a todos los que han perdido familiares y amigos y a los que han\\ntenido que abandonar sus hogares ahora es el momento de apoyar como en los dos\\núltimos años de crisis sanitaria santander y nuestros equipos a los que\\nquiero agradecer su continuo compromiso y apoyo están apoyando a las personas ya\\nlas empresas en los momentos más difíciles y estoy especialmente orgullosa del\\ncorredor humanitario que hemos organizado para trasladar a más de 180 refugiados desde polonia hasta españa\\njunto con el gobierno español y muchas ongs así como la utilización del\\nedificio el solaruco aquí mismo aquí en nuestra sede en nuestra casa para alojar temporalmente a\\nniños ucranianos con cáncer y sus familias [Aplausos]\\nestamos viendo la mejor cara de europa y esto ocurrió también durante la pandemia\\nporque cuando europa actúa unida funciona mejor con un propósito común\\nlas políticas pueden cambiar rápidamente y generar un impacto decisivo en europa\\nhemos pasado de las palabras a los hechos y los ciudadanos lo percibimos\\nla respuesta conjunta a esta crisis de ucrania es un ejemplo claro de esta unidad y agilidad\\nme gustaría explicar cuál es el impacto de esta invasión para santander y para los mercados en los que operamos\\ny si quiero destacar que hemos realizado este análisis bajo el supuesto de que no habrá una mayor escalada y que la\\ninvasión se limita a ucrania la exposición crediticia y no tenemos\\notros riesgos directos de santander en ucrania y rusia es de apenas 80 millones de euros cumplimos con todas las\\nrestricciones y sanciones impuestas a rusia por la unión europea el reino unido y eeuu y seguiremos observando\\nestos requerimientos a medida que la situación evolucione sin embargo no\\ndebemos minimizar el efecto indirecto lo que se llama efectos de segunda ronda que la invasión va a tener una mayor\\ninflación ya lo estamos viendo un menor crecimiento económico especialmente en europa y también impactos que van más\\nallá del fuerte aumento de los precios de la energía para conseguir reducir la dependencia\\nde la unión europea al petróleo y gas rusos entre otras iniciativas está el\\nque las entidades financieras podamos financiar esa transición energética y\\npara ello se requiere que las autoridades definan cuanto antes que préstamos son compatibles con nuestros\\nobjetivos de descarbonización primero la pandemia y ahora la invasión\\nde ucrania han puesto de manifiesto la necesidad de reducir la dependencia de europa y españa a sectores estratégicos\\nrusia es también un importante productor de aluminio níquel y paladio las interrupciones del suministro de estos\\nproductos podrían agravar a medio plazo la crisis del sector de la automoción y\\nla crisis energética pero además rusia y ucrania son los principales exportadores de cereales y fertilizantes por lo que\\nla guerra está incrementando los precios de los alimentos y otras materias primas agrícolas a nivel mundial\\nuna inflación significativa afectará a todas las economías los bancos centrales tienen que definir sus políticas\\nmonetarias considerando ahora un escenario de mayor inflación y al mismo tiempo el riesgo de un menor crecimiento\\neconómico no es una tarea fácil y requerirá un mayor protagonismo de las\\npolíticas fiscales para controlar los desequilibrios que traerá consigo la guerra\\nel escenario a medio plazo dependerá de la duración de la invasión su intensidad y de las políticas adoptadas para\\nmitigar mitigar su impacto sin embargo nuestro escenario central es el de un crecimiento a un ritmo más lento de lo\\nesperado a principios de año este escenario se basa en el actual consenso macro que contempla un crecimiento más\\nbajo de lo previsto en europa un impacto de aproximadamente de 1 a 1 y\\nmedio puntos porcentuales menos el crecimiento del pib un menor impacto en el crecimiento de\\neeuu con un crecimiento del pib de 0 25 a 0 puntos porcentuales menos y un\\nefecto entre neutral y ligeramente positivo en las economías latinoamericanas\\ny me gustaría destacar el diferente impacto que la guerra tendrá en nuestros mercados en europa la más afectada la\\npolítica pública debe centrarse además de mitigar los efectos negativos en tanto tanto las empresas como las\\nfamilias en el crecimiento sostenible y la competitividad\\nes importante aprovechar al máximo y lo antes posible en los fondos europeos promover la inversión y el crecimiento\\nde las empresas a través de un mercado de capitales más unido y más sólido y un\\nsistema bancario europeo realmente integrado en españa' es esencial que\\nademás de nuevo de proteger a empresas y familias especialmente a las pymes y a los más\\nvulnerables para mitigar el impacto de esta invasión es importante generar confianza de nuevo para impulsar la\\ninversión privada motor clave del crecimiento y generación de empleo y utilizándolos el impulso de los fondos\\neuropeos la economía de los eeuu se va a ver menos afectada por la guerra se espera\\nque siga creciendo este año por encima del potencial tanto éste como los próximos a pesar de una política\\nmonetaria menos acomodaticia eeuu seguirá siendo el mayor mercado de\\nservicios financieros del mundo con rentabilidades ajustadas al riesgo más atractivas que en otras economías\\ndesarrolladas nuestros principales mercados en latinoamérica están muy bien posicionados para los ciclos alcistas en\\nlos precios de las materias primas la energía y los alimentos también han demostrado ser resistentes para afrontar\\nlos cambios en las políticas internacionales y sus cuentas y reservas y reservas externas están en mejor\\nsituación que en el pasado en brasil por ejemplo menos del 2% del comercio internacional proviene de rusia y\\nucrania además de que exporta energía y alimentos lo que resultará en un superávit comercial\\ntodo esto pone de manifiesto de nuevo que nuestro modelo basado en el foco en\\nel cliente la escala y especialmente la diversificación es en tiempos de crisis más resiliente que el de nuestros\\ncomparables la diversificación demostró ser una\\nventaja competitiva durante la crisis financiera de 2008 durante la crisis de\\ndeuda soberana de 2011 y durante la pandemia y explica por qué santander\\nsiempre ha tenido uno de los mejores resultados entre los bancos de europa en\\nlos test de estrés de lcd nuestra diversificación\\ngenera mayor resiliencia en resultados siendo nuestro beneficio por acción el\\nmenos volátil entre nuestros comparables en los últimos 20 años\\npor lo tanto estamos bien posicionados para afrontar estos retos máxime por el\\ntrabajo realizado en estos últimos siete años en los que hemos reforzado las bases lo que nos ha permitido obtener\\nunos excelentes resultados en 2021 me gustaría recordar algunos datos\\nimportantes desde 2014 el número de clientes ha\\naumentado un 31 por ciento hasta alcanzar los 153 millones de clientes a\\nfinales de 2021 con 5 millones de clientes nuevos en este último año este\\ncrecimiento ha sido equilibrado en todas las regiones y negocios y refleja la fuerte demanda de nuestros productos y\\nservicios desde 2014 también los ingresos han crecido en euros constantes un 35 por ciento nuestro retorno sobre\\nel capital tangible el rote ha mejorado desde el 10 95 al 12 7\\ny en diciembre de 2021 nuestra ratio de capital fully loaded fue del 12 12%\\nesto supone un incremento de más de 380 puntos básicos desde 2014 y recalcar\\npara entender lo que esto significa es que en términos absolutos el capital total ha aumentado en 34 mil 700\\nmillones de euros en ese periodo\\nnuestro crecimiento sostenido y la mejora de la rentabilidad en general 2021 un crecimiento interanual del\\nbeneficio por acción del 79 por ciento y un crecimiento del 11 por ciento de la suma del valor neto contable por acción\\ny dividendo en efectivo por acción hacia adelante estas métricas\\nfinancieras y el crecimiento por acción de la retribución al accionista seguirán siendo nuestra prioridad\\nen este primer trimestre de 2022 la actividad comercial se ha mantenido fuerte con ingresos en línea con el\\ntrimestre anterior el último trimestre y un crecimiento interanual de la nueva producción de créditos estimado en 8% a\\nniveles pre pandemia\\nel retorno junto a ellos en este primer trimestre la eficiencia y el coste del crédito se\\nmantuvieron también en línea con lo que preveíamos a principios de año y el retorno sobre capital tangible ordinario\\ntambién en el trimestre por encima del 13 con la ratio de capital ct1 fully\\nloaded en el 12% todo ello alineado con lo que ya indicamos en los resultados\\nanuales y con los objetivos que nos hemos marcado a futuro nos centraremos en dónde y cómo\\npodemos lograr crecimiento rentabilidad y fortaleza financiera nuestra disciplina en la gestión de\\ncapital seguirá siendo clave para seguir aumentando los ingresos mejorando la rentabilidad y también creando valor\\npara los accionistas en el contexto actual\\nnuestro equipo humano nuestro modelo de negocio y en especial como ya ha indicado nuestra diversificación nos\\nproporcionan una base muy sólida para crecer como consecuencia de ello y\\nbasándonos en el consenso económico actual que descrito confiamos en\\nalcanzar los objetivos financieros de 2022 que anunciamos en febrero manteniendo una alta rentabilidad en las\\naméricas y mejorando la de europa y los objetivos de recuerdo eran aumentar los\\ningresos en torno al 5 por ciento mejorar un punto porcentual nuestra ratio de eficiencia hasta el 45% lograr\\nun rote superior al 13% mantener una ratio de capital ct1 fully loaded el 12%\\na lo largo del 2022 y generar crecimiento tanto del beneficio por acción como de la suma del valor\\ncontable neto por acción y el dividendo por acción y todo ello nos permitiría\\nuna retribución a los accionistas del 40 por ciento del beneficio ordinario en el que las recompras de acciones\\nseguirán siendo parte de la regulación del accionista a medio plazo\\nreiterar nuestros objetivos de conseguir un roto de en torno al 15% una ratio de eficiencia de aproximadamente el 40 por\\nciento manteniendo al mismo tiempo la ratio de capital ct1 fully loaded del\\n12% hacia adelante la estrategia sigue\\nsiendo la misma queremos ser la mejor plataforma abierta de servicios financieros actuando con responsabilidad\\nganando nos la confianza de nuestro equipo de nuestros clientes accionistas\\ny la sociedad nuestra misión contribuir al progreso de las personas y las\\nempresas y queremos hacerlo de la manera correcta que para nosotros significa\\nhacer las cosas de manera sencilla personal y justa en el centro de nuestra\\nestrategia está el cliente y es este foco en el cliente combinado con la escala y la diversificación geográfica y\\nde negocio lo que nos da las bases para la creación de valor para los\\naccionistas ya mencionada antes que una de las ventajas del grupo es la diversificación\\ngracias a lo que nuestro beneficio por acción ha tenido la menor volatilidad en\\nnuestros comparables en estos últimos 20 años el objetivo de crear valor para vosotros\\nnuestros accionistas lo haremos centrándonos en un crecimiento eficiente y rentable a través de una asignación de\\ncapital aún más disciplinada un balance sólido respaldado por el ratio de\\ncapital ct1 fully loaded el 12% y una gestión prudente de los riesgos de\\nnuestro negocio teniendo en cuenta esta estrategia cuando miramos al santander el futuro vemos un gran potencial de crecimiento\\nrentable somos uno de los mayores bancos del mundo número de clientes lo que genera oportunidades sólo al alcance de\\nunos pocos las preguntas ahora son cómo aprovechar\\nnuestra escala y el alcance para seguir con este crecimiento rentable\\npodremos sabremos trabajar aún más juntos en nuestros mercados para ofrecer\\nun mejor servicio a los clientes y de manera más eficiente y podremos utilizar\\nla tecnología que tenemos en el grupo para construir plataformas comunes\\nespecialmente para particulares y las pymes en áreas de mercado de alto\\ncrecimiento como son los pagos y que no sólo sirvan a nuestros propios negocios sino también a terceros\\nla respuesta a estas preguntas es sí y es así gracias a las tres iniciativas\\nestratégicas que lanzamos en 2020 lo que llamamos one santander pago next y el\\ndigital consumer bank juntas impulsan tanto los resultados de hoy como el beneficio y el crecimiento futuros\\none santander aumentará la conectividad dentro del grupo mediante el desarrollo\\nde soluciones comunes y servicios compartidos algunos ejemplos son el negocio de\\nfinanciación al consumo en latinoamérica los centros de operaciones en europa para nuestros más de 46 millones de\\nclientes nuestros negocios globales y compartiendo la tecnología de pagos de\\npago next entre nuestros bancos esto mejorará la experiencia del cliente\\ny lo vamos a hacer simplificando productos y servicios y dará lugar por\\ntanto a una mayor eficiencia y productividad y por tanto una mayor rentabilidad en norteamérica estamos\\nreorientando nuestro negocio de banca minorista en eeuu alrededor de la filial de consumo tanto\\nparticulares como auto apalancando liderazgo y relaciones con fabricantes a nivel global y también la tecnología del\\ngrupo y seguiremos creando y sobre todo creciendo negocios que se\\nbenefician de la conectividad del grupo o que tienen una ventaja competitiva diferencial como son la banca de\\nempresas de inversión y la banca privada en sudamérica nos hemos convertido en el\\nbanco más rentable de brasil y seguimos ganando cuota de mercado y manteniendo\\nel liderazgo en argentina chile y uruguay la fortaleza también de las divisas\\nlocales se traducirá en una mayor creación de valor en euros\\npago next nuestro negocio global de pagos como ya he dicho clave en nuestra estrategia al ser los pagos el centro de\\nlas relaciones con nuestros clientes en el día a día y aún más así en el mundo\\ndigital pago next es el eje tecnológico común que va a aglutinar los pagos de\\ntodos los clientes del santander y que también ofrecerá servicios a terceros incluye entre otros el payments hub\\ndonde el objetivo es procesar más del 30 por ciento del total de los pagos del\\ngrupo y prestar como he dicho también servicio a clientes fuera del grupo en esto ocurrirá este 30% entre 22 año 22 y\\n23 además el negocio de adquirencia y el negocio de comercio internacional en\\n2022 esperamos aumentar los ingresos en pago next un 50 por ciento y en el tiempo generar retornos muy atractivos\\nya esperamos que en este año en el año 22 pago nec sea rentable el día 7 el\\nconsumo de bank combina nuestros negocios de automóviles y financiación al consumo en europa aprovecha la\\ntecnología en openbank para acelerar acelerar la transformación tecnológica de estos\\nnegocios para mejorar el servicio al cliente y seguir con el crecimiento y\\nrentabilidad que tenemos y mejorarlos nuestro negocio de automóviles tiene\\nescala global lo que le hace ser hoy uno de los mayores del mundo esto nos permite establecer relaciones y acuerdos\\na nivel global a través de un modelo de financiación común con puntos de integración en 30 países también nos\\naporta datos a nivel global de clientes que nos permiten gestionar mejor los riesgos y ser muy competitivos en la\\nconcesión de crédito en resumen la transformación digital que estamos realizando en one santander pago next y\\ndcb es profunda está muy avanzada y es clave en nuestra\\nestrategia en 2021 invertimos 2 mil millones de euros para transformar el negocio de los\\nque 1.400 millones de euros en la transformación tecnológica del one santander y 600 millones de euros en\\npago next y digital consumer bank a menudo nos preguntan los accionistas\\npor el rendimiento de estas inversiones y el rendimiento de estas inversiones la\\nmejor manera de verlo es en la ratio de eficiencia del 46% entre los mejores del\\nsector y en cómo hemos pasado el porcentaje de transacciones digitales del 55% al\\n76% en sólo dos años de todas las transacciones del banco y estas\\ninversiones muy importantes también nos han aportado beneficios en muchas otras áreas como es por ejemplo el time to\\nmarket en nuevos productos\\ncomo banco responsable y nuestro enfoque es eje es fundamental en nuestra estrategia y el presidente del comité en\\neste tema ramiro mató les dará más detalle a continuación pero me gustaría resumir algunos mensajes\\nla invasión de ucrania ha puesto de manifiesto la necesidad de cambiar las políticas energéticas y clarificar los\\nplazos aceptables para la transición de empresas y sectores en todo el mundo por\\nsupuesto además de acelerar las inversiones en energías renovables para que podamos apoyar a las personas y\\nlas empresas en su transición hacia una economía verde\\ny no olvidar que esta transición como ya he mencionado será más difícil para los países emergentes para las pymes para\\nlos colectivos vulnerables y por ello serán necesarios incentivos para asegurar y apoyar una transición justa\\ngradual y aceptable destacar que en 2021 nos comprometimos a alcanzar cero\\nemisiones netas de carbono para 2050 que hemos movilizado 66 mil millones de\\neuros en financiación verde desde 2019 siendo uno de los líderes mundiales en financiación de energías renovables\\ndesde 2020 también somos neutros en nuestras propias operaciones\\nrespecto a la s en nuestro apoyo a la sociedad nos estamos acercando a nuestro objetivo de empoderar financieramente a\\n10 millones de personas para 2025 contando ya más de siete millones de personas empoderadas desde 2019 hemos\\nconcedido más de 550 millones de euros en microcréditos sólo en el año pasado y\\nen 2021 fuimos reconocidos por euro maní como el mejor banco del mundo en inclusión financiera\\npor último es clave que el modelo de gobierno garantice que hacemos las cosas de manera correcta\\nla permanente mejora de nuestro gobierno corporativo se ha dirigido este año a la consolidación de la estrategia acelerar\\nla transformación digital y mejorar la ejecución del grupo basado en esa\\nconectividad aún mayor que he descrito para ello hemos documentado y\\nclarificado los roles de los principales ejecutivos incluidos el mío y el del consejero delegado además hemos revisado\\nlos controles y contrapesos para que sigan siendo adecuados y eficaces y preservando la independencia plena de\\nlas funciones de control para construir a estos fines mejorar el funcionamiento de los órganos de\\ngobierno y adaptarlo a las recientes novedades legislativas se proponen a esta junta algunas modificaciones de los\\nestatutos y de su reglamento que también se han introducido en el reglamento del consejo como luego explicará el\\nsecretario general dentro de este permanente proceso de mejora también se incluye la composición\\ndel consejo contamos con un consejo excelente tanto por independencia con dos tercios de los consejeros con esta\\ncondición como por diversidad al contar con un 40 por ciento de mujeres y muy\\nimportante consejeros procedentes de múltiples geografías y con diferentes experiencias profesionales esta\\ncomposición que permite al grupo abordar la transformación necesaria para afrontar los retos que tenemos por\\ndelante se va a ver reforzada con la incorporación como consejero independiente de germán de la fuente\\nquien sustituirá a álvaro de souza a quien quiero agradecer desde aquí su\\ngran contribución al grupo tanto como consejero del grupo como presidente de\\nsantander brasil en la base de nuestro éxito como empresa\\nestán las personas por ello es un gran orgullo el que banco santander sea el\\núnico banco entre las 25 mejores empresas para trabajar del mundo según\\ngreat place to work también hemos obtenido el puesto número uno entre los bancos globales y el puesto número 2\\nentre empresas globales en el gender equality index de bloomberg un gran reconocimiento de nuestro fuerte\\ncompromiso con la diversidad y la inclusión es también un merecido reconocimiento\\ndel esfuerzo del equipo que el down jones sustainability index calificar a santander una vez más como uno de los\\nbancos más sostenibles del mundo en 2021 y la mejora en otros índices en la\\nclasificación en m ms allí el carbón disclosure project's\\nhacia el futuro a la vez que ejecutamos nuestras tres iniciativas estratégicas principales motores para crecer y\\nmejorar la rentabilidad vamos como ya he mencionado adoptar una exigencia aún mayor en la gestión de\\ncapital nuestro compromiso es invertir en oportunidades de crecimiento cuando éstas tengan un plan claro para generar\\nretornos por encima del coste de capital y al liberar capital de aquellas áreas que no cumplan con nuestros objetivos de\\nrentabilidad y en 2022 como anunciamos en febrero reducir en un tercio la\\nproporción de carteras que no cubren el coste de capital este foco aún mayor en la gestión disciplinada de capital nos\\npermitirá continuar mejorando nuestra rentabilidad como en años anteriores y en 2021 la\\nremuneración a los accionistas seguirá siendo una prioridad con el objetivo de crecimiento de la suma del valor\\ncontable neto por acción y el dividendo por acción por encima de nuestro coste de capital\\n2021 fue un año muy importante el primer año en el que llevamos a cabo una recompra de acciones una manera de\\nremunerar a los accionistas mediante la cual la compañía recompra sus propias acciones y posteriormente las amortiza\\nreduciendo así el número total de acciones vivas a medida que disminuye el\\nnúmero de acciones vivas los derechos económicos de cada acción aumentan se\\nincrementa así el valor de cada acción ya que cada acción representa una mayor parte del santander de sus beneficios\\ndividendos y activos cuando compramos nuestras acciones a\\nprecios inferiores al valor neto contable de los recursos propios tangibles como ha sido el caso estamos\\ninvirtiendo por encima de nuestro coste de capital\\nestamos convencidos de que invertir en acciones de santander a los precios\\nactuales es una de las mejores oportunidades de inversión que tenemos\\nentre nuestros 4 millones de accionistas tenemos un grupo y un grupo amplio y\\ndiverso de inversores que tienen diferentes preferencias en términos de remuneración y para atender a todas\\nellas hemos decidido combinar dividendos en efectivo y recompras de acciones en\\nlínea con la política de remuneración al accionista de 2021 hoy sometemos a votación en esta junta general la\\naprobación de un dividendo en efectivo bruto de 515 céntimos de euro por cada acción pagadero a partir del 2 de mayo\\nde 2022 como parte de la retribución complementaria con cargo al ejercicio 2021\\nesto se complementa con una segunda recompra recompra de acciones ya iniciada por valor de 865 millones de\\neuros en el cuarto trimestre de 2021 santander pagó un primer dividendo en\\nefectivo a cuenta de los resultados de 2021 de 485 céntimos de euro por acción\\ny completó una recompra de acciones por valor de aproximadamente 800 41 millones de euros\\npor tanto el total de capital repartido a los accionistas a cuenta del ejercicio\\n2021 será de unos 3.400 millones de euros lo que equivale\\na una rentabilidad por dividendo del 7%\\nen 2022 tenemos como objetivo un pay-out del 40 de nuestro beneficio ordinario que incluirá de nuevo recompras de\\nacciones que se prevé representen alrededor de la mitad del pay out y más allá de 2022 aspiramos a aumentar la\\nregulación al accionista por encima del 40% de nuestro beneficio ordinario con\\nalrededor de la mitad a través de recompras de acciones y con un dividendo en efectivo por acción creciente\\nmientras mantenemos la ratio de capital 71 fully loaded del 12%\\ndurante más de 150 años clientes de todo el mundo han elegido al santander como\\nsu banco y a través de muchos periodos de disrupción e incertidumbre santander ha\\nestado ahí cerca de sus clientes de todos sus clientes hoy una nueva\\ngeneración buscan nuevas formas de gestionar sus finanzas y una vez más santander estará allí para acompañarlos\\nsantander está invirtiendo fuertemente en el futuro creando la cultura que\\nnecesitamos para atraer y retener un equipo diverso con talento y aún más\\ncomprometido con nuestra misión que combinado con toda nuestra experiencia de años\\npara garantizar que seguimos a la vanguardia del nuevo mundo de los servicios financieros\\ncomo muestran nuestros resultados estamos lanzando con éxito nuevos\\nproductos y servicios desempeñando un papel importante en nuestras comunidades y creciendo el\\nnúmero de clientes nuestros accionistas se van a beneficiar\\ndirectamente de nuestro éxito y este éxito solo es posible gracias a\\nun gran equipo quiero aquí expresar mi reconocimiento y\\nagradecimiento a nuestro consejo por su continuo apoyo asesoramiento y\\norientación y como no y de manera muy especial gracias a cada uno de los miembros del gran equipo humano del\\nsantander en todo el mundo por su trabajo diario y por ir más allá para apoyar a nuestros clientes y así\\ncontribuir al progreso de las personas y las empresas especialmente en estos tiempos difíciles\\nnuestro éxito refuerza mi convicción y confianza en lo que podemos hacer juntos\\nen el futuro espero y deseo el restablecimiento de la\\npaz en ucrania y que la democracia y la libertad puedan seguir fortaleciéndose en europa de esta tragedia surgirá una\\neuropa más fuerte más unidad y más próspera\\ncomo cada año quiero agradecerles una vez más su confianza en el banco santander muchas gracias\""
      ]
     },
     "execution_count": 2,
     "metadata": {},
     "output_type": "execute_result"
    }
   ],
   "source": [
    "# load file\n",
    "filename = \"discurso.txt\"\n",
    "text = open(filename, encoding=\"utf-8\").read()\n",
    "text"
   ]
  },
  {
   "cell_type": "code",
   "execution_count": 3,
   "id": "55c6dba6",
   "metadata": {},
   "outputs": [
    {
     "data": {
      "text/plain": [
       "\"estamos celebrando este evento de nuevo en nuestra sede corporativa de boadilla para minimizar los riesgos sanitarios que podría conllevar el desplazamiento de nuestros equipos y accionistas a cantabria deseamos volver pronto a santander y me gustaría comenzar enviando un mensaje de apoyo al pueblo ucraniano que está sufriendo esta terrible catástrofe humanitaria a todos los que han perdido familiares y amigos y a los que han tenido que abandonar sus hogares ahora es el momento de apoyar como en los dos últimos años de crisis sanitaria santander y nuestros equipos a los que quiero agradecer su continuo compromiso y apoyo están apoyando a las personas ya las empresas en los momentos más difíciles y estoy especialmente orgullosa del corredor humanitario que hemos organizado para trasladar a más de 180 refugiados desde polonia hasta españa junto con el gobierno español y muchas ongs así como la utilización del edificio el solaruco aquí mismo aquí en nuestra sede en nuestra casa para alojar temporalmente a niños ucranianos con cáncer y sus familias [aplausos] estamos viendo la mejor cara de europa y esto ocurrió también durante la pandemia porque cuando europa actúa unida funciona mejor con un propósito común las políticas pueden cambiar rápidamente y generar un impacto decisivo en europa hemos pasado de las palabras a los hechos y los ciudadanos lo percibimos la respuesta conjunta a esta crisis de ucrania es un ejemplo claro de esta unidad y agilidad me gustaría explicar cuál es el impacto de esta invasión para santander y para los mercados en los que operamos y si quiero destacar que hemos realizado este análisis bajo el supuesto de que no habrá una mayor escalada y que la invasión se limita a ucrania la exposición crediticia y no tenemos otros riesgos directos de santander en ucrania y rusia es de apenas 80 millones de euros cumplimos con todas las restricciones y sanciones impuestas a rusia por la unión europea el reino unido y eeuu y seguiremos observando estos requerimientos a medida que la situación evolucione sin embargo no debemos minimizar el efecto indirecto lo que se llama efectos de segunda ronda que la invasión va a tener una mayor inflación ya lo estamos viendo un menor crecimiento económico especialmente en europa y también impactos que van más allá del fuerte aumento de los precios de la energía para conseguir reducir la dependencia de la unión europea al petróleo y gas rusos entre otras iniciativas está el que las entidades financieras podamos financiar esa transición energética y para ello se requiere que las autoridades definan cuanto antes que préstamos son compatibles con nuestros objetivos de descarbonización primero la pandemia y ahora la invasión de ucrania han puesto de manifiesto la necesidad de reducir la dependencia de europa y españa a sectores estratégicos rusia es también un importante productor de aluminio níquel y paladio las interrupciones del suministro de estos productos podrían agravar a medio plazo la crisis del sector de la automoción y la crisis energética pero además rusia y ucrania son los principales exportadores de cereales y fertilizantes por lo que la guerra está incrementando los precios de los alimentos y otras materias primas agrícolas a nivel mundial una inflación significativa afectará a todas las economías los bancos centrales tienen que definir sus políticas monetarias considerando ahora un escenario de mayor inflación y al mismo tiempo el riesgo de un menor crecimiento económico no es una tarea fácil y requerirá un mayor protagonismo de las políticas fiscales para controlar los desequilibrios que traerá consigo la guerra el escenario a medio plazo dependerá de la duración de la invasión su intensidad y de las políticas adoptadas para mitigar mitigar su impacto sin embargo nuestro escenario central es el de un crecimiento a un ritmo más lento de lo esperado a principios de año este escenario se basa en el actual consenso macro que contempla un crecimiento más bajo de lo previsto en europa un impacto de aproximadamente de 1 a 1 y medio puntos porcentuales menos el crecimiento del pib un menor impacto en el crecimiento de eeuu con un crecimiento del pib de 0 25 a 0 puntos porcentuales menos y un efecto entre neutral y ligeramente positivo en las economías latinoamericanas y me gustaría destacar el diferente impacto que la guerra tendrá en nuestros mercados en europa la más afectada la política pública debe centrarse además de mitigar los efectos negativos en tanto tanto las empresas como las familias en el crecimiento sostenible y la competitividad es importante aprovechar al máximo y lo antes posible en los fondos europeos promover la inversión y el crecimiento de las empresas a través de un mercado de capitales más unido y más sólido y un sistema bancario europeo realmente integrado en españa' es esencial que además de nuevo de proteger a empresas y familias especialmente a las pymes y a los más vulnerables para mitigar el impacto de esta invasión es importante generar confianza de nuevo para impulsar la inversión privada motor clave del crecimiento y generación de empleo y utilizándolos el impulso de los fondos europeos la economía de los eeuu se va a ver menos afectada por la guerra se espera que siga creciendo este año por encima del potencial tanto éste como los próximos a pesar de una política monetaria menos acomodaticia eeuu seguirá siendo el mayor mercado de servicios financieros del mundo con rentabilidades ajustadas al riesgo más atractivas que en otras economías desarrolladas nuestros principales mercados en latinoamérica están muy bien posicionados para los ciclos alcistas en los precios de las materias primas la energía y los alimentos también han demostrado ser resistentes para afrontar los cambios en las políticas internacionales y sus cuentas y reservas y reservas externas están en mejor situación que en el pasado en brasil por ejemplo menos del 2% del comercio internacional proviene de rusia y ucrania además de que exporta energía y alimentos lo que resultará en un superávit comercial todo esto pone de manifiesto de nuevo que nuestro modelo basado en el foco en el cliente la escala y especialmente la diversificación es en tiempos de crisis más resiliente que el de nuestros comparables la diversificación demostró ser una ventaja competitiva durante la crisis financiera de 2008 durante la crisis de deuda soberana de 2011 y durante la pandemia y explica por qué santander siempre ha tenido uno de los mejores resultados entre los bancos de europa en los test de estrés de lcd nuestra diversificación genera mayor resiliencia en resultados siendo nuestro beneficio por acción el menos volátil entre nuestros comparables en los últimos 20 años por lo tanto estamos bien posicionados para afrontar estos retos máxime por el trabajo realizado en estos últimos siete años en los que hemos reforzado las bases lo que nos ha permitido obtener unos excelentes resultados en 2021 me gustaría recordar algunos datos importantes desde 2014 el número de clientes ha aumentado un 31 por ciento hasta alcanzar los 153 millones de clientes a finales de 2021 con 5 millones de clientes nuevos en este último año este crecimiento ha sido equilibrado en todas las regiones y negocios y refleja la fuerte demanda de nuestros productos y servicios desde 2014 también los ingresos han crecido en euros constantes un 35 por ciento nuestro retorno sobre el capital tangible el rote ha mejorado desde el 10 95 al 12 7 y en diciembre de 2021 nuestra ratio de capital fully loaded fue del 12 12% esto supone un incremento de más de 380 puntos básicos desde 2014 y recalcar para entender lo que esto significa es que en términos absolutos el capital total ha aumentado en 34 mil 700 millones de euros en ese periodo nuestro crecimiento sostenido y la mejora de la rentabilidad en general 2021 un crecimiento interanual del beneficio por acción del 79 por ciento y un crecimiento del 11 por ciento de la suma del valor neto contable por acción y dividendo en efectivo por acción hacia adelante estas métricas financieras y el crecimiento por acción de la retribución al accionista seguirán siendo nuestra prioridad en este primer trimestre de 2022 la actividad comercial se ha mantenido fuerte con ingresos en línea con el trimestre anterior el último trimestre y un crecimiento interanual de la nueva producción de créditos estimado en 8% a niveles pre pandemia el retorno junto a ellos en este primer trimestre la eficiencia y el coste del crédito se mantuvieron también en línea con lo que preveíamos a principios de año y el retorno sobre capital tangible ordinario también en el trimestre por encima del 13 con la ratio de capital ct1 fully loaded en el 12% todo ello alineado con lo que ya indicamos en los resultados anuales y con los objetivos que nos hemos marcado a futuro nos centraremos en dónde y cómo podemos lograr crecimiento rentabilidad y fortaleza financiera nuestra disciplina en la gestión de capital seguirá siendo clave para seguir aumentando los ingresos mejorando la rentabilidad y también creando valor para los accionistas en el contexto actual nuestro equipo humano nuestro modelo de negocio y en especial como ya ha indicado nuestra diversificación nos proporcionan una base muy sólida para crecer como consecuencia de ello y basándonos en el consenso económico actual que descrito confiamos en alcanzar los objetivos financieros de 2022 que anunciamos en febrero manteniendo una alta rentabilidad en las américas y mejorando la de europa y los objetivos de recuerdo eran aumentar los ingresos en torno al 5 por ciento mejorar un punto porcentual nuestra ratio de eficiencia hasta el 45% lograr un rote superior al 13% mantener una ratio de capital ct1 fully loaded el 12% a lo largo del 2022 y generar crecimiento tanto del beneficio por acción como de la suma del valor contable neto por acción y el dividendo por acción y todo ello nos permitiría una retribución a los accionistas del 40 por ciento del beneficio ordinario en el que las recompras de acciones seguirán siendo parte de la regulación del accionista a medio plazo reiterar nuestros objetivos de conseguir un roto de en torno al 15% una ratio de eficiencia de aproximadamente el 40 por ciento manteniendo al mismo tiempo la ratio de capital ct1 fully loaded del 12% hacia adelante la estrategia sigue siendo la misma queremos ser la mejor plataforma abierta de servicios financieros actuando con responsabilidad ganando nos la confianza de nuestro equipo de nuestros clientes accionistas y la sociedad nuestra misión contribuir al progreso de las personas y las empresas y queremos hacerlo de la manera correcta que para nosotros significa hacer las cosas de manera sencilla personal y justa en el centro de nuestra estrategia está el cliente y es este foco en el cliente combinado con la escala y la diversificación geográfica y de negocio lo que nos da las bases para la creación de valor para los accionistas ya mencionada antes que una de las ventajas del grupo es la diversificación gracias a lo que nuestro beneficio por acción ha tenido la menor volatilidad en nuestros comparables en estos últimos 20 años el objetivo de crear valor para vosotros nuestros accionistas lo haremos centrándonos en un crecimiento eficiente y rentable a través de una asignación de capital aún más disciplinada un balance sólido respaldado por el ratio de capital ct1 fully loaded el 12% y una gestión prudente de los riesgos de nuestro negocio teniendo en cuenta esta estrategia cuando miramos al santander el futuro vemos un gran potencial de crecimiento rentable somos uno de los mayores bancos del mundo número de clientes lo que genera oportunidades sólo al alcance de unos pocos las preguntas ahora son cómo aprovechar nuestra escala y el alcance para seguir con este crecimiento rentable podremos sabremos trabajar aún más juntos en nuestros mercados para ofrecer un mejor servicio a los clientes y de manera más eficiente y podremos utilizar la tecnología que tenemos en el grupo para construir plataformas comunes especialmente para particulares y las pymes en áreas de mercado de alto crecimiento como son los pagos y que no sólo sirvan a nuestros propios negocios sino también a terceros la respuesta a estas preguntas es sí y es así gracias a las tres iniciativas estratégicas que lanzamos en 2020 lo que llamamos one santander pago next y el digital consumer bank juntas impulsan tanto los resultados de hoy como el beneficio y el crecimiento futuros one santander aumentará la conectividad dentro del grupo mediante el desarrollo de soluciones comunes y servicios compartidos algunos ejemplos son el negocio de financiación al consumo en latinoamérica los centros de operaciones en europa para nuestros más de 46 millones de clientes nuestros negocios globales y compartiendo la tecnología de pagos de pago next entre nuestros bancos esto mejorará la experiencia del cliente y lo vamos a hacer simplificando productos y servicios y dará lugar por tanto a una mayor eficiencia y productividad y por tanto una mayor rentabilidad en norteamérica estamos reorientando nuestro negocio de banca minorista en eeuu alrededor de la filial de consumo tanto particulares como auto apalancando liderazgo y relaciones con fabricantes a nivel global y también la tecnología del grupo y seguiremos creando y sobre todo creciendo negocios que se benefician de la conectividad del grupo o que tienen una ventaja competitiva diferencial como son la banca de empresas de inversión y la banca privada en sudamérica nos hemos convertido en el banco más rentable de brasil y seguimos ganando cuota de mercado y manteniendo el liderazgo en argentina chile y uruguay la fortaleza también de las divisas locales se traducirá en una mayor creación de valor en euros pago next nuestro negocio global de pagos como ya he dicho clave en nuestra estrategia al ser los pagos el centro de las relaciones con nuestros clientes en el día a día y aún más así en el mundo digital pago next es el eje tecnológico común que va a aglutinar los pagos de todos los clientes del santander y que también ofrecerá servicios a terceros incluye entre otros el payments hub donde el objetivo es procesar más del 30 por ciento del total de los pagos del grupo y prestar como he dicho también servicio a clientes fuera del grupo en esto ocurrirá este 30% entre 22 año 22 y 23 además el negocio de adquirencia y el negocio de comercio internacional en 2022 esperamos aumentar los ingresos en pago next un 50 por ciento y en el tiempo generar retornos muy atractivos ya esperamos que en este año en el año 22 pago nec sea rentable el día 7 el consumo de bank combina nuestros negocios de automóviles y financiación al consumo en europa aprovecha la tecnología en openbank para acelerar acelerar la transformación tecnológica de estos negocios para mejorar el servicio al cliente y seguir con el crecimiento y rentabilidad que tenemos y mejorarlos nuestro negocio de automóviles tiene escala global lo que le hace ser hoy uno de los mayores del mundo esto nos permite establecer relaciones y acuerdos a nivel global a través de un modelo de financiación común con puntos de integración en 30 países también nos aporta datos a nivel global de clientes que nos permiten gestionar mejor los riesgos y ser muy competitivos en la concesión de crédito en resumen la transformación digital que estamos realizando en one santander pago next y dcb es profunda está muy avanzada y es clave en nuestra estrategia en 2021 invertimos 2 mil millones de euros para transformar el negocio de los que 1.400 millones de euros en la transformación tecnológica del one santander y 600 millones de euros en pago next y digital consumer bank a menudo nos preguntan los accionistas por el rendimiento de estas inversiones y el rendimiento de estas inversiones la mejor manera de verlo es en la ratio de eficiencia del 46% entre los mejores del sector y en cómo hemos pasado el porcentaje de transacciones digitales del 55% al 76% en sólo dos años de todas las transacciones del banco y estas inversiones muy importantes también nos han aportado beneficios en muchas otras áreas como es por ejemplo el time to market en nuevos productos como banco responsable y nuestro enfoque es eje es fundamental en nuestra estrategia y el presidente del comité en este tema ramiro mató les dará más detalle a continuación pero me gustaría resumir algunos mensajes la invasión de ucrania ha puesto de manifiesto la necesidad de cambiar las políticas energéticas y clarificar los plazos aceptables para la transición de empresas y sectores en todo el mundo por supuesto además de acelerar las inversiones en energías renovables para que podamos apoyar a las personas y las empresas en su transición hacia una economía verde y no olvidar que esta transición como ya he mencionado será más difícil para los países emergentes para las pymes para los colectivos vulnerables y por ello serán necesarios incentivos para asegurar y apoyar una transición justa gradual y aceptable destacar que en 2021 nos comprometimos a alcanzar cero emisiones netas de carbono para 2050 que hemos movilizado 66 mil millones de euros en financiación verde desde 2019 siendo uno de los líderes mundiales en financiación de energías renovables desde 2020 también somos neutros en nuestras propias operaciones respecto a la s en nuestro apoyo a la sociedad nos estamos acercando a nuestro objetivo de empoderar financieramente a 10 millones de personas para 2025 contando ya más de siete millones de personas empoderadas desde 2019 hemos concedido más de 550 millones de euros en microcréditos sólo en el año pasado y en 2021 fuimos reconocidos por euro maní como el mejor banco del mundo en inclusión financiera por último es clave que el modelo de gobierno garantice que hacemos las cosas de manera correcta la permanente mejora de nuestro gobierno corporativo se ha dirigido este año a la consolidación de la estrategia acelerar la transformación digital y mejorar la ejecución del grupo basado en esa conectividad aún mayor que he descrito para ello hemos documentado y clarificado los roles de los principales ejecutivos incluidos el mío y el del consejero delegado además hemos revisado los controles y contrapesos para que sigan siendo adecuados y eficaces y preservando la independencia plena de las funciones de control para construir a estos fines mejorar el funcionamiento de los órganos de gobierno y adaptarlo a las recientes novedades legislativas se proponen a esta junta algunas modificaciones de los estatutos y de su reglamento que también se han introducido en el reglamento del consejo como luego explicará el secretario general dentro de este permanente proceso de mejora también se incluye la composición del consejo contamos con un consejo excelente tanto por independencia con dos tercios de los consejeros con esta condición como por diversidad al contar con un 40 por ciento de mujeres y muy importante consejeros procedentes de múltiples geografías y con diferentes experiencias profesionales esta composición que permite al grupo abordar la transformación necesaria para afrontar los retos que tenemos por delante se va a ver reforzada con la incorporación como consejero independiente de germán de la fuente quien sustituirá a álvaro de souza a quien quiero agradecer desde aquí su gran contribución al grupo tanto como consejero del grupo como presidente de santander brasil en la base de nuestro éxito como empresa están las personas por ello es un gran orgullo el que banco santander sea el único banco entre las 25 mejores empresas para trabajar del mundo según great place to work también hemos obtenido el puesto número uno entre los bancos globales y el puesto número 2 entre empresas globales en el gender equality index de bloomberg un gran reconocimiento de nuestro fuerte compromiso con la diversidad y la inclusión es también un merecido reconocimiento del esfuerzo del equipo que el down jones sustainability index calificar a santander una vez más como uno de los bancos más sostenibles del mundo en 2021 y la mejora en otros índices en la clasificación en m ms allí el carbón disclosure project's hacia el futuro a la vez que ejecutamos nuestras tres iniciativas estratégicas principales motores para crecer y mejorar la rentabilidad vamos como ya he mencionado adoptar una exigencia aún mayor en la gestión de capital nuestro compromiso es invertir en oportunidades de crecimiento cuando éstas tengan un plan claro para generar retornos por encima del coste de capital y al liberar capital de aquellas áreas que no cumplan con nuestros objetivos de rentabilidad y en 2022 como anunciamos en febrero reducir en un tercio la proporción de carteras que no cubren el coste de capital este foco aún mayor en la gestión disciplinada de capital nos permitirá continuar mejorando nuestra rentabilidad como en años anteriores y en 2021 la remuneración a los accionistas seguirá siendo una prioridad con el objetivo de crecimiento de la suma del valor contable neto por acción y el dividendo por acción por encima de nuestro coste de capital 2021 fue un año muy importante el primer año en el que llevamos a cabo una recompra de acciones una manera de remunerar a los accionistas mediante la cual la compañía recompra sus propias acciones y posteriormente las amortiza reduciendo así el número total de acciones vivas a medida que disminuye el número de acciones vivas los derechos económicos de cada acción aumentan se incrementa así el valor de cada acción ya que cada acción representa una mayor parte del santander de sus beneficios dividendos y activos cuando compramos nuestras acciones a precios inferiores al valor neto contable de los recursos propios tangibles como ha sido el caso estamos invirtiendo por encima de nuestro coste de capital estamos convencidos de que invertir en acciones de santander a los precios actuales es una de las mejores oportunidades de inversión que tenemos entre nuestros 4 millones de accionistas tenemos un grupo y un grupo amplio y diverso de inversores que tienen diferentes preferencias en términos de remuneración y para atender a todas ellas hemos decidido combinar dividendos en efectivo y recompras de acciones en línea con la política de remuneración al accionista de 2021 hoy sometemos a votación en esta junta general la aprobación de un dividendo en efectivo bruto de 515 céntimos de euro por cada acción pagadero a partir del 2 de mayo de 2022 como parte de la retribución complementaria con cargo al ejercicio 2021 esto se complementa con una segunda recompra recompra de acciones ya iniciada por valor de 865 millones de euros en el cuarto trimestre de 2021 santander pagó un primer dividendo en efectivo a cuenta de los resultados de 2021 de 485 céntimos de euro por acción y completó una recompra de acciones por valor de aproximadamente 800 41 millones de euros por tanto el total de capital repartido a los accionistas a cuenta del ejercicio 2021 será de unos 3.400 millones de euros lo que equivale a una rentabilidad por dividendo del 7% en 2022 tenemos como objetivo un pay-out del 40 de nuestro beneficio ordinario que incluirá de nuevo recompras de acciones que se prevé representen alrededor de la mitad del pay out y más allá de 2022 aspiramos a aumentar la regulación al accionista por encima del 40% de nuestro beneficio ordinario con alrededor de la mitad a través de recompras de acciones y con un dividendo en efectivo por acción creciente mientras mantenemos la ratio de capital 71 fully loaded del 12% durante más de 150 años clientes de todo el mundo han elegido al santander como su banco y a través de muchos periodos de disrupción e incertidumbre santander ha estado ahí cerca de sus clientes de todos sus clientes hoy una nueva generación buscan nuevas formas de gestionar sus finanzas y una vez más santander estará allí para acompañarlos santander está invirtiendo fuertemente en el futuro creando la cultura que necesitamos para atraer y retener un equipo diverso con talento y aún más comprometido con nuestra misión que combinado con toda nuestra experiencia de años para garantizar que seguimos a la vanguardia del nuevo mundo de los servicios financieros como muestran nuestros resultados estamos lanzando con éxito nuevos productos y servicios desempeñando un papel importante en nuestras comunidades y creciendo el número de clientes nuestros accionistas se van a beneficiar directamente de nuestro éxito y este éxito solo es posible gracias a un gran equipo quiero aquí expresar mi reconocimiento y agradecimiento a nuestro consejo por su continuo apoyo asesoramiento y orientación y como no y de manera muy especial gracias a cada uno de los miembros del gran equipo humano del santander en todo el mundo por su trabajo diario y por ir más allá para apoyar a nuestros clientes y así contribuir al progreso de las personas y las empresas especialmente en estos tiempos difíciles nuestro éxito refuerza mi convicción y confianza en lo que podemos hacer juntos en el futuro espero y deseo el restablecimiento de la paz en ucrania y que la democracia y la libertad puedan seguir fortaleciéndose en europa de esta tragedia surgirá una europa más fuerte más unidad y más próspera como cada año quiero agradecerles una vez más su confianza en el banco santander muchas gracias\""
      ]
     },
     "execution_count": 3,
     "metadata": {},
     "output_type": "execute_result"
    }
   ],
   "source": [
    "# clean text\n",
    "text = text.replace('\\n', ' ')\n",
    "text = text.lower()\n",
    "text"
   ]
  },
  {
   "cell_type": "code",
   "execution_count": 4,
   "id": "5d143197",
   "metadata": {},
   "outputs": [
    {
     "name": "stdout",
     "output_type": "stream",
     "text": [
      "Total Characters:  25328\n",
      "Total Vocab:  49\n"
     ]
    }
   ],
   "source": [
    "# create mapping of unique chars to integers, and a reverse mapping\n",
    "chars = sorted(list(set(text)))\n",
    "char_to_int = dict((c, i) for i, c in enumerate(chars))\n",
    "int_to_char = dict((i, c) for i, c in enumerate(chars))\n",
    "\n",
    "# summarize the loaded data\n",
    "n_chars = len(text)\n",
    "n_vocab = len(chars)\n",
    "print(\"Total Characters: \", n_chars)\n",
    "print(\"Total Vocab: \", n_vocab)"
   ]
  },
  {
   "cell_type": "code",
   "execution_count": 6,
   "id": "07d13ffa",
   "metadata": {},
   "outputs": [
    {
     "name": "stdout",
     "output_type": "stream",
     "text": [
      "Total Patterns:  8403\n",
      "8403 x 99\n"
     ]
    }
   ],
   "source": [
    "# prepare the dataset of input to output pairs encoded as integers\n",
    "maxlen = 60\n",
    "step = 3\n",
    "sentences = []\n",
    "next_chars = []\n",
    "seq_length = 100\n",
    "for i in range(0, n_chars - maxlen - maxlen, step):\n",
    "    seq_in = text[i:i + seq_length-1]\n",
    "    seq_out = text[i + maxlen:i + maxlen + maxlen]\n",
    "    sentences.append([char_to_int[char] for char in seq_in])\n",
    "    next_chars.append(char_to_int[seq_out] for char in seq_out)\n",
    "    n_patterns = len(sentences)\n",
    "print(\"Total Patterns: \", n_patterns)\n",
    "print(\"{} x {}\".format(len(sentences),len(sentences[1])))"
   ]
  },
  {
   "cell_type": "code",
   "execution_count": 7,
   "id": "a41f4d7c",
   "metadata": {},
   "outputs": [
    {
     "ename": "NameError",
     "evalue": "name 'dataXSequences' is not defined",
     "output_type": "error",
     "traceback": [
      "\u001b[1;31m---------------------------------------------------------------------------\u001b[0m",
      "\u001b[1;31mNameError\u001b[0m                                 Traceback (most recent call last)",
      "\u001b[1;32m<ipython-input-7-8baacd1e2ee8>\u001b[0m in \u001b[0;36m<module>\u001b[1;34m\u001b[0m\n\u001b[1;32m----> 1\u001b[1;33m \u001b[0mdataX\u001b[0m \u001b[1;33m=\u001b[0m \u001b[0mnp\u001b[0m\u001b[1;33m.\u001b[0m\u001b[0marray\u001b[0m\u001b[1;33m(\u001b[0m\u001b[1;33m[\u001b[0m\u001b[1;33m[\u001b[0m\u001b[1;33m[\u001b[0m\u001b[1;36m0\u001b[0m \u001b[1;32mfor\u001b[0m \u001b[0mk\u001b[0m \u001b[1;32min\u001b[0m \u001b[0mrange\u001b[0m\u001b[1;33m(\u001b[0m\u001b[1;36m0\u001b[0m\u001b[1;33m,\u001b[0m\u001b[0mlen\u001b[0m\u001b[1;33m(\u001b[0m\u001b[0mchars\u001b[0m\u001b[1;33m)\u001b[0m\u001b[1;33m,\u001b[0m\u001b[1;36m1\u001b[0m\u001b[1;33m)\u001b[0m\u001b[1;33m]\u001b[0m \u001b[1;32mfor\u001b[0m \u001b[0mj\u001b[0m \u001b[1;32min\u001b[0m \u001b[0mrange\u001b[0m\u001b[1;33m(\u001b[0m\u001b[1;36m0\u001b[0m\u001b[1;33m,\u001b[0m\u001b[0mseq_length\u001b[0m\u001b[1;33m,\u001b[0m\u001b[1;36m1\u001b[0m\u001b[1;33m)\u001b[0m\u001b[1;33m]\u001b[0m \u001b[1;32mfor\u001b[0m \u001b[0mi\u001b[0m \u001b[1;32min\u001b[0m \u001b[0mrange\u001b[0m\u001b[1;33m(\u001b[0m\u001b[1;36m0\u001b[0m\u001b[1;33m,\u001b[0m\u001b[0mlen\u001b[0m\u001b[1;33m(\u001b[0m\u001b[0mdataXSequences\u001b[0m\u001b[1;33m)\u001b[0m\u001b[1;33m,\u001b[0m\u001b[1;36m1\u001b[0m\u001b[1;33m)\u001b[0m\u001b[1;33m]\u001b[0m\u001b[1;33m)\u001b[0m\u001b[1;33m\u001b[0m\u001b[1;33m\u001b[0m\u001b[0m\n\u001b[0m",
      "\u001b[1;31mNameError\u001b[0m: name 'dataXSequences' is not defined"
     ]
    }
   ],
   "source": [
    "dataX = np.array([[[0 for k in range(0,len(chars),1)] for j in range(0,seq_length,1)] for i in range(0,len(dataXSequences),1)])\n"
   ]
  },
  {
   "cell_type": "code",
   "execution_count": 95,
   "id": "2db2a80c",
   "metadata": {},
   "outputs": [
    {
     "data": {
      "text/plain": [
       "''"
      ]
     },
     "execution_count": 95,
     "metadata": {},
     "output_type": "execute_result"
    }
   ],
   "source": [
    "text[60:60]"
   ]
  },
  {
   "cell_type": "code",
   "execution_count": 44,
   "id": "8cfdd181",
   "metadata": {},
   "outputs": [
    {
     "name": "stdout",
     "output_type": "stream",
     "text": [
      "Total Characters:  25328\n",
      "Total Vocab:  50\n",
      "Total Patterns:  25268\n",
      "(25268, 60, 1)\n"
     ]
    }
   ],
   "source": [
    "# reshape X to be [samples, time steps, features]\n",
    "X = numpy.reshape(dataX, (n_patterns, seq_length, 1))\n",
    "# normalizacion\n",
    "X = X / float(n_vocab)\n",
    "# codificacion en caliente de la variable de salida\n",
    "y = tf.keras.utils.to_categorical(dataY)\n",
    "print(X.shape)"
   ]
  },
  {
   "cell_type": "code",
   "execution_count": null,
   "id": "761ea1b0",
   "metadata": {},
   "outputs": [],
   "source": [
    "# define la LSTM model\n",
    "model = tf.keras.Sequential()\n",
    "model.add(tf.keras.layers.LSTM(128, input_shape=(X.shape[1], X.shape[2])))\n",
    "#model.add(tf.keras.layers.Dropout(0.2))\n",
    "model.add(tf.keras.layers.Dense(y.shape[1], activation='softmax'))\n",
    "\n",
    "# Carga de los pesos de la red\n",
    "opt = tf.keras.optimizers.RMSprop(learning_rate=0.01)\n",
    "model.compile(loss='categorical_crossentropy', optimizer=opt)"
   ]
  },
  {
   "cell_type": "code",
   "execution_count": 39,
   "id": "594071c7",
   "metadata": {},
   "outputs": [],
   "source": [
    "def text_from_ids(ids):\n",
    "  return tf.strings.reduce_join(chars_from_ids(ids), axis=-1)"
   ]
  },
  {
   "cell_type": "code",
   "execution_count": null,
   "id": "abd6bc1d",
   "metadata": {},
   "outputs": [],
   "source": [
    "all_ids = ids_from_chars(tf.strings.unicode_split(text, 'UTF-8'))\n",
    "all_ids"
   ]
  },
  {
   "cell_type": "code",
   "execution_count": 35,
   "id": "e68b8f3b",
   "metadata": {},
   "outputs": [
    {
     "name": "stdout",
     "output_type": "stream",
     "text": [
      "789/789 [==============================] - 191s 239ms/step - loss: 19.4773\n"
     ]
    },
    {
     "data": {
      "text/plain": [
       "<keras.callbacks.History at 0x2a49b6130d0>"
      ]
     },
     "execution_count": 35,
     "metadata": {},
     "output_type": "execute_result"
    }
   ],
   "source": [
    "model.fit(X,y, epochs=1)"
   ]
  },
  {
   "cell_type": "code",
   "execution_count": 36,
   "id": "df3ae51d",
   "metadata": {},
   "outputs": [
    {
     "name": "stdout",
     "output_type": "stream",
     "text": [
      "Semilla:\n",
      "\" ividendo en efectivo bruto de 515 céntimos de euro por cada acción pagadero a partir del 2 de mayo\n",
      "d \"\n",
      "iiiiiiiiiiiiiiiiiiiiiiiiiiiiiiiiiiiiiiiiiiiiiiiiiiiiiiiiiiiiiiiiiiiiiiiiiiiiiiiiiiiiiiiiiiiiiiiiiiiiiiiiiiiiiiiiiiiiiiiiiiiiiiiiiiiiiiiiiiiiiiiiiiiiiiiiiiiiiiiiiiiiiiiiiiiiiiiiiiiiiiiiiiiiiiiiiiiiiiiiiiiiiiiiiiiiiiiiiiiiiiiiiiiiiiiiiiiiiiiiiiiiiiiiiiiiiiiiiiiiiiiiiiiiiiiiiiiiiiiiiiiiiiiiiiiiiiiiiiiiiiiiiiiiiiiiiiiiiiiiiiiiiiiiiiiiiiiiiiiiiiiiiiiiiiiiiiiiiiiiiiiiiiiiiiiiiiiiiiiiiiiiiiiiiiiiiiiiiiiiiiiiiiiiiiiiiiiiiiiiiiiiiiiiiiiiiiiiiiiiiiiiiiiiiiiiiiiiiiiiiiiiiiiiiiiiiiiiiiiiiiiiiiiiiiiiiiiiiiiiiiiiiiiiiiiiiiiiiiiiiiiiiiiiiiiiiiiiiiiiiiiiiiiiiiiiiiiiiiiiiiiiiiiiiiiiiiiiiiiiiiiiiiiiiiiiiiiiiiiiiiiiiiiiiiiiiiiiiiiiiiiiiiiiiiiiiiiiiiiiiiiiiiiiiiiiiiiiiiiiiiiiiiiiiiiiiiiiiiiiiiiiiiiiiiiiiiiiiiiiiiiiiiiiiiiiiiiiiiiiiiiiiiiiiiiiiiiiiiiiiiiiiiiiiiiiiiiiiiiiiiiiiiiiiiiiiiiiiiiiiiiiiiiiiiiiiiiiiiiiiiiiiiiiiiiiiiiiiiiiiiiiiiiiiiiiiiiiiiiiiiiiiiiiiiiiiiiiiiiiiiiiiiiiiiiiiiiiiiiiiiiiiiiiiiiiiiiiiiiiiiiiiiiiiiiiiiiiiiiiiiiiiiiiiiiiiiiiiiiiiiiiiiiiiiiiiiiiiiiiiiiiiiiiiiiiiiiiiiiiiiiiiiiiiiiiiiiiiiii\n",
      "Hecho.\n"
     ]
    }
   ],
   "source": [
    "# toma una semilla aleatoria\n",
    "start = numpy.random.randint(0, len(dataX)-1)\n",
    "pattern = dataX[start]\n",
    "print(\"Semilla:\")\n",
    "print(\"\\\"\", ''.join([int_to_char[value] for value in pattern]), \"\\\"\")\n",
    "# generate characters\n",
    "for i in range(1000):\n",
    "  x = numpy.reshape(pattern, (1, len(pattern), 1))\n",
    "  x = x / float(n_vocab)\n",
    "  prediction = model.predict(x, verbose=0)\n",
    "  index = numpy.argmax(prediction)\n",
    "  result = int_to_char[index]\n",
    "  seq_in = [int_to_char[value] for value in pattern]\n",
    "  sys.stdout.write(result)\n",
    "  pattern.append(index)\n",
    "  pattern = pattern[1:len(pattern)]\n",
    "  #print(prediction)\n",
    "  #print(index)\n",
    "print(\"\\nHecho.\")"
   ]
  }
 ],
 "metadata": {
  "kernelspec": {
   "display_name": "Python 3",
   "language": "python",
   "name": "python3"
  },
  "language_info": {
   "codemirror_mode": {
    "name": "ipython",
    "version": 3
   },
   "file_extension": ".py",
   "mimetype": "text/x-python",
   "name": "python",
   "nbconvert_exporter": "python",
   "pygments_lexer": "ipython3",
   "version": "3.8.8"
  }
 },
 "nbformat": 4,
 "nbformat_minor": 5
}
